{
 "cells": [
  {
   "cell_type": "code",
   "execution_count": 0,
   "metadata": {
    "application/vnd.databricks.v1+cell": {
     "cellMetadata": {
      "byteLimit": 2048000,
      "rowLimit": 10000
     },
     "inputWidgets": {},
     "nuid": "ddf304ca-3ae1-4547-b447-74986083ae82",
     "showTitle": false,
     "tableResultSettingsMap": {},
     "title": ""
    }
   },
   "outputs": [],
   "source": [
    "%pip install openpyxl\n",
    "\n",
    "import pandas as pd\n",
    "import ast\n",
    "import plotly.express as px"
   ]
  },
  {
   "cell_type": "markdown",
   "metadata": {
    "application/vnd.databricks.v1+cell": {
     "cellMetadata": {
      "byteLimit": 2048000,
      "rowLimit": 10000
     },
     "inputWidgets": {},
     "nuid": "c2deed2d-4380-4f1e-a3a6-aad9b8f76cb7",
     "showTitle": false,
     "tableResultSettingsMap": {},
     "title": ""
    }
   },
   "source": [
    "## Read in Data"
   ]
  },
  {
   "cell_type": "code",
   "execution_count": 0,
   "metadata": {
    "application/vnd.databricks.v1+cell": {
     "cellMetadata": {
      "byteLimit": 2048000,
      "rowLimit": 10000
     },
     "inputWidgets": {},
     "nuid": "1eecd659-2be4-48c8-9871-000d79e271cd",
     "showTitle": false,
     "tableResultSettingsMap": {},
     "title": ""
    }
   },
   "outputs": [],
   "source": [
    "raw_df = pd.read_csv(r'/Volumes/prd_mega/sdgreg25/vdgreg25/Documents/MA Survey/MA Survey Results.csv')"
   ]
  },
  {
   "cell_type": "markdown",
   "metadata": {
    "application/vnd.databricks.v1+cell": {
     "cellMetadata": {
      "byteLimit": 2048000,
      "rowLimit": 10000
     },
     "inputWidgets": {},
     "nuid": "0d5f7bf1-2432-4a1a-85a7-137b4c3aa55d",
     "showTitle": false,
     "tableResultSettingsMap": {},
     "title": ""
    }
   },
   "source": [
    "## Process Data"
   ]
  },
  {
   "cell_type": "code",
   "execution_count": 0,
   "metadata": {
    "application/vnd.databricks.v1+cell": {
     "cellMetadata": {
      "byteLimit": 2048000,
      "rowLimit": 10000
     },
     "inputWidgets": {},
     "nuid": "c4799fcf-2cf4-47e4-bfb4-8997c1482700",
     "showTitle": false,
     "tableResultSettingsMap": {},
     "title": ""
    }
   },
   "outputs": [],
   "source": [
    "join_cols = [col for col in raw_df.columns.to_list() if 'join_' in col] + ['caseid']\n",
    "join_df = raw_df[join_cols]\n",
    "\n",
    "df = join_df.applymap(lambda x: x.split('] ,')[0].replace('[','').strip())\n",
    "df.columns = [col.replace('join_','') for col in df.columns]\n",
    "\n",
    "# remove test cases\n",
    "df = df.reset_index(drop=True)"
   ]
  },
  {
   "cell_type": "markdown",
   "metadata": {
    "application/vnd.databricks.v1+cell": {
     "cellMetadata": {
      "byteLimit": 2048000,
      "rowLimit": 10000
     },
     "inputWidgets": {},
     "nuid": "ad092510-fbcc-490a-87ef-a46985c890d3",
     "showTitle": false,
     "tableResultSettingsMap": {},
     "title": ""
    }
   },
   "source": [
    "## Separate out the MIS systems that are integrated with e-cohesion and not"
   ]
  },
  {
   "cell_type": "code",
   "execution_count": 0,
   "metadata": {
    "application/vnd.databricks.v1+cell": {
     "cellMetadata": {
      "byteLimit": 2048000,
      "rowLimit": 10000
     },
     "collapsed": true,
     "inputWidgets": {},
     "nuid": "eb68de66-8b8b-42f1-befe-648341598016",
     "showTitle": false,
     "tableResultSettingsMap": {},
     "title": ""
    }
   },
   "outputs": [],
   "source": [
    "import numpy as np\n",
    "\n",
    "financial_mis_cols = [col for col in df.columns if 'mis_financial_' in col]\n",
    "\n",
    "logic_col = 'single_or_separate_system'\n",
    "mis_only_cols = []\n",
    "for col in financial_mis_cols:\n",
    "    joint_mis_col = col.replace('financial_','')\n",
    "    one_sys_col = col.replace('financial_','all_')\n",
    "\n",
    "    mis_only_col = joint_mis_col.replace('mis_','mis_only_no_e_cohesion_')\n",
    "    mis_only_cols.append(mis_only_col)\n",
    "\n",
    "    # df[one_sys_col] = df[joint_mis_col].where(df[logic_col] == 'all_integrated', other='')\n",
    "    df[mis_only_col] = df[joint_mis_col].where(df[logic_col] == 'one_mis_separate_e_cohesion', other='')\n",
    "    df[one_sys_col] = df[joint_mis_col].where(df[logic_col] == 'all_integrated', other='')\n",
    "\n"
   ]
  },
  {
   "cell_type": "markdown",
   "metadata": {
    "application/vnd.databricks.v1+cell": {
     "cellMetadata": {
      "byteLimit": 2048000,
      "rowLimit": 10000
     },
     "inputWidgets": {},
     "nuid": "03d6882c-16fb-4aa6-9603-782f5439170e",
     "showTitle": false,
     "tableResultSettingsMap": {},
     "title": ""
    }
   },
   "source": [
    "## Functions to Display Data"
   ]
  },
  {
   "cell_type": "code",
   "execution_count": 0,
   "metadata": {
    "application/vnd.databricks.v1+cell": {
     "cellMetadata": {
      "byteLimit": 2048000,
      "rowLimit": 10000
     },
     "inputWidgets": {},
     "nuid": "b05bd741-fd79-4c98-a978-c8ce5bc66444",
     "showTitle": false,
     "tableResultSettingsMap": {},
     "title": ""
    }
   },
   "outputs": [],
   "source": [
    "survey_path = r'/Volumes/prd_mega/sdgreg25/vdgreg25/Documents/temp/MA_Survey_Final.xlsx'\n",
    "\n",
    "choice_df = pd.read_excel(survey_path, sheet_name='choices', engine='openpyxl')\n",
    "\n",
    "def find_list_name_for_values(values: list):\n",
    "    choice_df['value'] = choice_df['value'].astype(str)\n",
    "    values = set(map(str, values))\n",
    "    grouped = choice_df.groupby('list_name')['value'].apply(set)\n",
    "    overlap = grouped.apply(lambda s: len(s.intersection(values)))\n",
    "    matches = overlap[overlap == overlap.max()]\n",
    "    return matches.index.tolist()\n",
    "\n",
    "def get_values_dict(choices: list):\n",
    "    list_names = find_list_name_for_values(choices)\n",
    "    \n",
    "    if len(list_names) == 1:\n",
    "        sub_df = choice_df[choice_df['list_name'] == list_names[0]]\n",
    "        dic = dict(zip(sub_df['value'].astype(str), sub_df['label']))\n",
    "        dic[''] = 'No Answer'\n",
    "    else:\n",
    "        dic = dict(zip(choices, [underscore_to_sentence(choice) for choice in choices]))\n",
    "        print('********* could not find unique list_name!!! **********')\n",
    "\n",
    "    return dic\n",
    "    \n",
    "def shorten_choices(values_dict, choices_dict):\n",
    "    merged_dict = {k: choices_dict.get(k, v) for k, v in values_dict.items()}\n",
    "    merged_dict.update({k: v for k, v in choices_dict.items() if k not in values_dict})\n",
    "    return merged_dict"
   ]
  },
  {
   "cell_type": "code",
   "execution_count": 0,
   "metadata": {
    "application/vnd.databricks.v1+cell": {
     "cellMetadata": {
      "byteLimit": 2048000,
      "rowLimit": 10000
     },
     "inputWidgets": {},
     "nuid": "6df8d4d1-7e40-47ae-912f-a2d42bac6797",
     "showTitle": false,
     "tableResultSettingsMap": {},
     "title": ""
    }
   },
   "outputs": [],
   "source": [
    "def create_long_df(df, systems):\n",
    "    long_df = []\n",
    "    \n",
    "    has_any_multiple = False\n",
    "    for system_label, col in systems.items():\n",
    "        df_subset = df[col].str.split(' ').to_frame()\n",
    "\n",
    "        # check for select multiple condition\n",
    "        if df_subset[col].apply(lambda x: len(x) > 1 if isinstance(x, list) else False).any():\n",
    "            has_any_multiple=True\n",
    "        \n",
    "        exploded = df_subset.explode(col)\n",
    "        exploded['System'] = system_label\n",
    "        exploded['Barrier'] = exploded[col]\n",
    "        exploded= exploded.replace('','No Answer',regex=True)\n",
    "        long_df.append(exploded[['System', 'Barrier']])\n",
    "\n",
    "    long_df = pd.concat(long_df)\n",
    "\n",
    "    return long_df, has_any_multiple\n",
    "\n",
    "def create_counts(long_df):\n",
    "    counts = (\n",
    "        long_df.groupby(['System', 'Barrier'])\n",
    "        .size()\n",
    "        .reset_index(name='count')\n",
    "    )\n",
    "\n",
    "    return counts\n",
    "\n",
    "def create_percents(counts):\n",
    "    counts['percent'] = counts.groupby('System')['count'].transform(lambda x: 100 * x / x.sum())\n",
    "\n",
    "    return counts\n",
    "\n",
    "def underscore_to_sentence(s):\n",
    "    return s.replace('_', ' ').capitalize()\n",
    "\n",
    "def create_color_map(counts):\n",
    "    color_list = [\n",
    "    \"#E03C31\",  # Red (strong attention grabber)\n",
    "    \"#002C77\",  # World Bank Blue (deep, highly legible)\n",
    "    \"#F17C36\",  # Orange (high visual energy)\n",
    "    \"#A64FA0\",  # Purple (vivid, distinct from warm/cool hues)\n",
    "    \"#1B9E77\",  # Teal (medium-dark, clear)\n",
    "    \"#60BD68\",  # Green (medium saturation)\n",
    "    \"#D95F02\",  # Burnt Orange (distinct but softer than bright orange)\n",
    "    \"#FFC845\",  # Yellow/Gold (high contrast on dark bg, weaker on white)\n",
    "    \"#4CA6D7\",  # Sky Blue (clear but less intense)\n",
    "    \"#8DB600\"   # Lime Green (lower contrast on white, more muted)\n",
    "]\n",
    "\n",
    "    barriers = counts['Barrier'].drop_duplicates().to_list()\n",
    "    \n",
    "    color_discrete_map = {}\n",
    "    for i, barrier in enumerate(barriers):\n",
    "        if i < len(color_list) and barrier != 'No answer':\n",
    "            color_discrete_map[underscore_to_sentence(barrier)] = color_list[i]\n",
    "    \n",
    "    color_discrete_map['No answer'] = '#b0b0b0'\n",
    "\n",
    "    return color_discrete_map\n",
    "\n",
    "def rename_columns(counts,legend=''):\n",
    "\n",
    "    counts.rename(columns={'System': 'Process', 'Barrier': legend}, inplace=True)\n",
    "\n",
    "    return counts\n",
    "\n",
    "def sentence_case_column(counts, col):\n",
    "    counts[col] = counts[col].apply(lambda x: underscore_to_sentence(x))\n",
    "\n",
    "    return counts"
   ]
  },
  {
   "cell_type": "code",
   "execution_count": 0,
   "metadata": {
    "application/vnd.databricks.v1+cell": {
     "cellMetadata": {
      "byteLimit": 2048000,
      "rowLimit": 10000
     },
     "inputWidgets": {},
     "nuid": "deb7d134-2f1c-4923-a44a-b67df199caec",
     "showTitle": false,
     "tableResultSettingsMap": {},
     "title": ""
    }
   },
   "outputs": [],
   "source": [
    "def process_others(df, col1, col2, others):\n",
    "    sub_df = df[[col1, col2]].copy()\n",
    "    sub_df[col1] = sub_df[col1].str.split(' ')\n",
    "    sub_df[col1] = sub_df.apply(lambda row: process_row(row, col1, col2, others), axis=1)\n",
    "    return sub_df\n",
    "\n",
    "def process_row(row, col1, col2, others):\n",
    "    new_list = []\n",
    "\n",
    "    def add_value(val):\n",
    "        if isinstance(val, list):\n",
    "            new_list.extend(val)\n",
    "        elif isinstance(val, str) and val.strip():\n",
    "            new_list.append(val)\n",
    "\n",
    "    if not row[col1]:\n",
    "        add_value(others.get(row[col2], ''))\n",
    "    else:\n",
    "        for val in row[col1]:\n",
    "            if val in ('other', '', None):\n",
    "                add_value(others.get(row[col2], ''))\n",
    "            else:\n",
    "                add_value(val)\n",
    "\n",
    "    return ' '.join([str(v) for v in new_list if v])\n"
   ]
  },
  {
   "cell_type": "code",
   "execution_count": 0,
   "metadata": {
    "application/vnd.databricks.v1+cell": {
     "cellMetadata": {
      "byteLimit": 2048000,
      "rowLimit": 10000
     },
     "inputWidgets": {},
     "nuid": "46850944-adb8-4402-a3e9-c92d24941f7b",
     "showTitle": false,
     "tableResultSettingsMap": {},
     "title": ""
    }
   },
   "outputs": [],
   "source": [
    "def stacked_bar(df,\n",
    "    col,\n",
    "    title,\n",
    "    legend,\n",
    "    color_discrete_map,\n",
    "    has_any_multiple=False,\n",
    "    orientation='h',\n",
    "    height=300,\n",
    "    width=600,\n",
    "    barwidth=0.25,\n",
    "    n=None,\n",
    "    empty_labels=None,\n",
    "    barmode='stack',\n",
    "    category_orders = None,\n",
    "    legend_format=None,\n",
    "    xtitle='',\n",
    "    ytitle='',\n",
    "    note_size=10,\n",
    "    note_y=-.1,\n",
    "    note_x =.85\n",
    "):\n",
    "    if orientation == 'h':\n",
    "        x_axis = col\n",
    "        y_axis = 'Process'\n",
    "    else:\n",
    "        x_axis = 'Process'\n",
    "        y_axis = col\n",
    "\n",
    "    # if n is not None:\n",
    "    #     df = df.rename(columns={legend: legend + f' (n={n})'})\n",
    "    #     legend = legend + f' (n={n})'\n",
    "\n",
    "    if category_orders is None:\n",
    "        category_orders = {\n",
    "            legend: sorted(df[legend].dropna().unique().tolist())\n",
    "        }\n",
    "    else:\n",
    "        category_orders = {\n",
    "            legend: category_orders\n",
    "        }\n",
    "        \n",
    "    text = df[col].map('{:.0f}%'.format) if col == 'percent' else df[col]\n",
    "\n",
    "    if empty_labels:\n",
    "        for p in empty_labels:\n",
    "            df.loc[df['Process'] == p,'count'] = 0\n",
    "\n",
    "    fig = px.bar(\n",
    "        df,\n",
    "        x=x_axis,\n",
    "        y=y_axis,\n",
    "        color=legend,\n",
    "        orientation=orientation,\n",
    "        text=text,\n",
    "        category_orders=category_orders,\n",
    "        color_discrete_map=color_discrete_map,\n",
    "        title=title\n",
    "    )\n",
    "\n",
    "    if empty_labels:\n",
    "        for trace in fig.data:\n",
    "            if trace.name == \"No answer\":\n",
    "                trace.showlegend = False\n",
    "\n",
    "    if legend_format is None:        \n",
    "        fig.update_layout(\n",
    "            barmode=barmode,\n",
    "            plot_bgcolor='white',\n",
    "            boxmode='group',\n",
    "            paper_bgcolor='white',\n",
    "            height=height,\n",
    "            width=width,\n",
    "            bargap=0.25,\n",
    "            font=dict(size=16),\n",
    "            margin=dict(t=80, b=80),\n",
    "            yaxis_title=ytitle,\n",
    "            xaxis_title=xtitle,\n",
    "            legend_traceorder='grouped',            \n",
    "        )\n",
    "    else:\n",
    "        fig.update_layout(\n",
    "            barmode=barmode,\n",
    "            plot_bgcolor='white',\n",
    "            boxmode='group',\n",
    "            paper_bgcolor='white',\n",
    "            height=height,\n",
    "            width=width,\n",
    "            bargap=0.25,\n",
    "            font=dict(size=16),\n",
    "            margin=dict(t=80, b=80),\n",
    "            legend_traceorder='grouped',\n",
    "            yaxis_title=ytitle,\n",
    "            xaxis_title=xtitle,\n",
    "            legend=legend_format\n",
    "        )\n",
    "\n",
    "    fig.update_traces(\n",
    "        textposition='inside',\n",
    "        insidetextanchor='middle',\n",
    "        textangle=0,\n",
    "        width=barwidth\n",
    "    )\n",
    "\n",
    "    if has_any_multiple:\n",
    "        fig.add_annotation(\n",
    "            text=\"*respondents could have multiple answers\",\n",
    "            xref=\"paper\",\n",
    "            yref=\"paper\",\n",
    "            x=0,\n",
    "            y=1.07,\n",
    "            showarrow=False,\n",
    "            font=dict(size=10, color=\"dimgray\"),\n",
    "        )\n",
    "\n",
    "    if n is not None:\n",
    "        fig.add_annotation(\n",
    "                text=f'Sample Size = {n}',\n",
    "                x=note_x,\n",
    "                y=note_y,\n",
    "                xref='paper',\n",
    "                yref='paper',\n",
    "                showarrow=False,\n",
    "                font=dict(size=note_size),\n",
    "                align='right'\n",
    "        )\n",
    "\n",
    "    return fig"
   ]
  },
  {
   "cell_type": "code",
   "execution_count": 0,
   "metadata": {
    "application/vnd.databricks.v1+cell": {
     "cellMetadata": {
      "byteLimit": 2048000,
      "rowLimit": 10000
     },
     "inputWidgets": {},
     "nuid": "9500a3e7-2fb6-47fd-81f4-e47fe04035d0",
     "showTitle": false,
     "tableResultSettingsMap": {},
     "title": ""
    }
   },
   "outputs": [],
   "source": [
    "def vertical_bar_chart(df, title, xtitle='', ytitle=None, has_any_multiple=False, mode='percent', height=700, width=600, n=None,note_x=0.5,note_y=-.5,note_text='',note_xanchor='left',note_yanchor='bottom'):\n",
    "    \n",
    "    if mode == 'percent':\n",
    "        fig = px.bar(\n",
    "            df.reset_index(),\n",
    "            x='answer',\n",
    "            y='percent',\n",
    "            text=df[mode].map('{:.0f}%'.format),\n",
    "            title=title\n",
    "        )\n",
    "        prfx = '%'\n",
    "    elif mode == 'count':\n",
    "        fig = px.bar(\n",
    "            df.reset_index(),\n",
    "            x='answer',\n",
    "            y='count',\n",
    "            text=df[mode],\n",
    "            title=title\n",
    "        )\n",
    "        prfx = 'Number'\n",
    "    \n",
    "    if ytitle is None:\n",
    "        ytitle = f\"{prfx} of respondents\",\n",
    "\n",
    "    fig.update_traces(marker_color='steelblue', textposition='outside')\n",
    "    fig.update_layout(\n",
    "        yaxis_title=ytitle,\n",
    "        xaxis_title=xtitle,\n",
    "        xaxis_tickangle=-45,\n",
    "        uniformtext_minsize=20,\n",
    "        margin=dict(t=60, b=120),\n",
    "        height=height,\n",
    "        width=width,\n",
    "        bargap=0.3,\n",
    "        plot_bgcolor='white',\n",
    "        font=dict(size=16, color='black'),\n",
    "    )\n",
    "    \n",
    "    fig.update_xaxes( \n",
    "        mirror=False, \n",
    "        showgrid=True,\n",
    "        ticks='outside', \n",
    "        showline=True, \n",
    "        linecolor='black'\n",
    "    )\n",
    "    \n",
    "    fig.update_yaxes(\n",
    "        showgrid=True,\n",
    "        showline=False,\n",
    "        showticklabels=False,\n",
    "        gridcolor='lightgray',   \n",
    "        linecolor='black',      \n",
    "        ticks=''\n",
    "    )\n",
    "\n",
    "    text = '*'\n",
    "    print(text)\n",
    "    if not n is None:\n",
    "        text = text + f' (n={n})'\n",
    "    print(text)\n",
    "    if has_any_multiple and text != '*':\n",
    "        text = text + '<br> respondents could have multiple answers;'\n",
    "    elif has_any_multiple and text == '*':\n",
    "        text = text + ' respondents could have multiple answers;'\n",
    "    if note_text != '':\n",
    "        text = text + f' {note_text}'\n",
    "    if text != '*':\n",
    "        fig.add_annotation(\n",
    "            text=text,\n",
    "            xref=\"paper\",\n",
    "            yref=\"paper\",\n",
    "            x=note_x,\n",
    "            y=note_y,  # Move to bottom\n",
    "            xanchor=note_xanchor,  # Align text to left of x=0\n",
    "            yanchor=note_yanchor,\n",
    "            showarrow=False,\n",
    "            font=dict(size=15, color=\"#333\"),\n",
    "        )\n",
    "    fig.show()"
   ]
  },
  {
   "cell_type": "code",
   "execution_count": 0,
   "metadata": {
    "application/vnd.databricks.v1+cell": {
     "cellMetadata": {
      "byteLimit": 2048000,
      "rowLimit": 10000
     },
     "inputWidgets": {},
     "nuid": "4a1bd68c-6aaf-4d9f-a957-b0da41bb0a98",
     "showTitle": false,
     "tableResultSettingsMap": {},
     "title": ""
    }
   },
   "outputs": [],
   "source": [
    "def bar_chart(df, col, title, xtitle='', ytitle='', mode='percent', no_show_no_answer=True, change_values_dict=None, width=600, height=700, note_x=0,note_y=-.5,note_text='',note_xanchor='left',note_yanchor='bottom',orientation='v'):\n",
    "    if no_show_no_answer:\n",
    "        df = df[df[col] != '']\n",
    "    n = len(df)\n",
    "\n",
    "    df_subset = df[col].str.split(' ').to_frame()\n",
    "    has_any_multiple = False\n",
    "    if df_subset[col].apply(lambda x: len(x) > 1 if isinstance(x, list) else False).any():\n",
    "        has_any_multiple=True\n",
    "\n",
    "    # title = f\"{title} (n={len(df)})\"\n",
    "    choices = df[col].str.split(' ').explode().value_counts().to_frame(name='choices')\n",
    "    choices = list(filter(None,choices.index.to_list()))\n",
    "    value_dict = get_values_dict(choices)\n",
    "\n",
    "    if not change_values_dict is None:\n",
    "        \n",
    "        value_dict = shorten_choices(value_dict,change_values_dict)\n",
    "\n",
    "    counts = df[col].str.split(' ').explode().value_counts().to_frame(name='count')\n",
    "    counts.index.name = 'answer'\n",
    "    counts = counts.rename(index=value_dict)\n",
    "    n_respondents = df[col].notna().sum()\n",
    "    counts['percent'] = (counts['count'] / n_respondents) * 100\n",
    "    \n",
    "    if orientation == 'v':\n",
    "        vertical_bar_chart(counts, title, xtitle, ytitle, has_any_multiple=has_any_multiple, mode=mode, width=width, height=height, n=n_respondents, note_x=note_x,note_y=note_y,note_text=note_text,note_xanchor=note_xanchor,note_yanchor=note_yanchor)\n",
    "    elif orientation == 'h':\n",
    "        horizontal_bar_chart(counts, title, xtitle,mode=mode, has_any_multiple=has_any_multiple, width=width, height=height,)"
   ]
  },
  {
   "cell_type": "code",
   "execution_count": 0,
   "metadata": {
    "application/vnd.databricks.v1+cell": {
     "cellMetadata": {
      "byteLimit": 2048000,
      "rowLimit": 10000
     },
     "inputWidgets": {},
     "nuid": "8cf5a38f-e270-4b94-b785-1304c181f846",
     "showTitle": false,
     "tableResultSettingsMap": {},
     "title": ""
    }
   },
   "outputs": [],
   "source": [
    "def horizontal_bar_chart(\n",
    "    df, col, title, xtitle='', mode='percent', no_show_no_answer=True, change_values_dict=None, max_x=None,\n",
    "    height=250, width=900, note_y=0, note_x=1, note_text='', note_xanchor='right', note_yanchor='bottom',\n",
    "):\n",
    "    if no_show_no_answer:\n",
    "        df = df[df[col] != '']\n",
    "    n = len(df)\n",
    "\n",
    "    df_subset = df[col].str.split(' ').to_frame()\n",
    "    has_any_multiple = False\n",
    "    if df_subset[col].apply(lambda x: len(x) > 1 if isinstance(x, list) else False).any():\n",
    "        has_any_multiple = True\n",
    "\n",
    "    title = f\"{title}\"\n",
    "    choices = df[col].str.split(' ').explode().value_counts().to_frame(name='choices')\n",
    "    choices = list(filter(None, choices.index.to_list()))\n",
    "    value_dict = get_values_dict(choices)\n",
    "\n",
    "    if change_values_dict is not None:\n",
    "        value_dict = shorten_choices(value_dict, change_values_dict)\n",
    "    value_dict = {k: v.strip() + ' ' for k, v in value_dict.items()}\n",
    "\n",
    "    counts = df[col].str.split(' ').explode().value_counts().to_frame(name='count')\n",
    "    counts.index.name = 'answer'\n",
    "    counts = counts.rename(index=value_dict)\n",
    "    n_respondents = df[col].notna().sum()\n",
    "    counts['percent'] = (counts['count'] / n_respondents) * 100\n",
    "\n",
    "    # Sort for better visual order\n",
    "    counts = counts.sort_values(by=mode, ascending=True)\n",
    "\n",
    "    x = counts[mode]\n",
    "    y = counts.index\n",
    "\n",
    "    if mode == 'percent':\n",
    "        hovertext = counts['percent'].round().astype(int).astype(str) + '%'\n",
    "        bar_text = counts['percent'].round().astype(int).astype(str) + '%'\n",
    "    else:\n",
    "        hovertext = counts['count'].astype(int).astype(str) + ' responses'\n",
    "        bar_text = counts['count'].astype(int).astype(str)\n",
    "\n",
    "    fig = go.Figure(\n",
    "        go.Bar(\n",
    "            x=x,\n",
    "            y=y,\n",
    "            orientation='h',\n",
    "            text=bar_text,\n",
    "            hoverinfo='text',\n",
    "            hovertext=hovertext,\n",
    "            marker=dict(color='steelblue')\n",
    "        )\n",
    "    )\n",
    "\n",
    "    fig.update_layout(\n",
    "        title=title,\n",
    "        xaxis_title=None,\n",
    "        yaxis_title=None,\n",
    "        height=height,\n",
    "        width=width,\n",
    "        margin=dict(l=150, r=20, t=50, b=50),\n",
    "        yaxis=dict(automargin=True),\n",
    "        xaxis=dict(showticklabels=False, range=[0, max_x] if max_x is not None else None),\n",
    "        plot_bgcolor='white',\n",
    "    )\n",
    "\n",
    "    text = \"*\"\n",
    "    if not n is None:\n",
    "        text = f'Sample Size = {n}'\n",
    "\n",
    "    if note_text != '':\n",
    "        text = text + f' {note_text}'\n",
    "    if text != '*':\n",
    "        fig.add_annotation(\n",
    "            text=text,\n",
    "            xref=\"paper\",\n",
    "            yref=\"paper\",\n",
    "            x=note_x,\n",
    "            y=note_y,  # Move to bottom\n",
    "            xanchor=note_xanchor,  # Align text to left of x=0\n",
    "            yanchor=note_yanchor,\n",
    "            showarrow=False,\n",
    "            font=dict(size=10, color=\"black\"),\n",
    "        )\n",
    "\n",
    "    fig.show()"
   ]
  },
  {
   "cell_type": "code",
   "execution_count": 0,
   "metadata": {
    "application/vnd.databricks.v1+cell": {
     "cellMetadata": {
      "byteLimit": 2048000,
      "rowLimit": 10000
     },
     "inputWidgets": {},
     "nuid": "41374856-03d1-4e06-9d9a-007135672c47",
     "showTitle": false,
     "tableResultSettingsMap": {},
     "title": ""
    }
   },
   "outputs": [],
   "source": [
    "def invert_df(df,cols):\n",
    "    temp = df[list(cols) + ['caseid']]\n",
    "    \n",
    "    df_long = temp.melt(id_vars='caseid', value_vars=cols, var_name='Barrier', value_name='System')\n",
    "\n",
    "    df_long = df_long[df_long['System'].str.strip() != '']\n",
    "    df_long['System'] = df_long['System'].str.split(' ')\n",
    "    df_exploded = df_long.explode('System')\n",
    "\n",
    "    df_exploded = df_exploded.drop_duplicates(subset=['caseid', 'System'])\n",
    "    df_exploded['System'] = df_exploded['System'].apply(lambda x: underscore_to_sentence(x)) \n",
    "    return df_exploded\n",
    "\n",
    "def create_stacked_plots(df, \n",
    "                         systems, \n",
    "                         title, \n",
    "                         legend='', \n",
    "                         mode='count',\n",
    "                         height=300, \n",
    "                         width=600,\n",
    "                         barwidth=0.25,\n",
    "                         orientation='v', \n",
    "                         show_blank_cols=True,\n",
    "                         barmode='stack',\n",
    "                         swap=False,\n",
    "                         category_orders=None,\n",
    "                         legend_format=None,\n",
    "                         xtitle='',\n",
    "                         ytitle='',\n",
    "                         note_y=-.1,\n",
    "                         note_x=.5\n",
    "                            ):\n",
    "    if legend == '':\n",
    "        legend = 'Legend'\n",
    "\n",
    "    cols = systems.values()\n",
    "    sub_df = df[list(cols)].copy()\n",
    "    sub_df = sub_df[~(sub_df == \"\").all(axis=1)]\n",
    "    if swap:\n",
    "        long_df = invert_df(df, cols)\n",
    "        has_any_multiple = False\n",
    "        n = len(long_df)\n",
    "    else:\n",
    "        sub_df = df[list(cols)].copy()\n",
    "        sub_df = sub_df[~(sub_df == \"\").all(axis=1)]\n",
    "        \n",
    "        if len(cols) > 1:\n",
    "            renamed_cols = {col: f\"{col}_(n={(df[col] != '').sum()})\" for col in cols}\n",
    "            sub_df.rename(columns=renamed_cols, inplace=True)\n",
    "            systems = {label + ' ' + renamed_cols[col].split('_')[-1]: renamed_cols[col] for label, col in systems.items()}\n",
    "        # else:\n",
    "        #     systems = {label + ' ' + col: col for label, col in systems.items()}\n",
    "        \n",
    "        long_df, has_any_multiple = create_long_df(sub_df, systems)\n",
    "\n",
    "        n=len(sub_df)\n",
    "    counts = create_counts(long_df)\n",
    "\n",
    "    color_discrete_map = create_color_map(counts)\n",
    "    counts = rename_columns(counts,legend)\n",
    "    counts = sentence_case_column(counts, legend)\n",
    "    if show_blank_cols:\n",
    "        mask = ~counts['Process'].str.contains('(n=0)', regex=False) & (counts[legend] == 'No answer')\n",
    "        counts = counts[~mask]\n",
    "        empty_labels = [label for label in counts['Process'] if '(n=0)' in label]\n",
    "    else:\n",
    "        counts = counts[counts[legend] != 'No answer']\n",
    "        empty_labels = None\n",
    "    \n",
    "    # display(counts)\n",
    "    if mode == 'percent': \n",
    "        counts['percent'] = counts['count'] / counts.groupby('Process')['count'].transform('sum') * 100\n",
    "\n",
    "    # Plot\n",
    "    fig = stacked_bar(counts, col=mode, title=title, legend=legend, has_any_multiple=has_any_multiple,color_discrete_map=color_discrete_map, orientation=orientation, height=height, width=width, n=n, empty_labels=empty_labels,barmode=barmode,barwidth=barwidth,category_orders=category_orders,legend_format=legend_format,xtitle=xtitle,ytitle=ytitle,note_y=note_y,note_x=note_x)\n",
    "\n",
    "    return fig"
   ]
  },
  {
   "cell_type": "code",
   "execution_count": 0,
   "metadata": {
    "application/vnd.databricks.v1+cell": {
     "cellMetadata": {
      "byteLimit": 2048000,
      "rowLimit": 10000
     },
     "inputWidgets": {},
     "nuid": "d00f172e-0398-432d-9d86-98f4d4296f2c",
     "showTitle": false,
     "tableResultSettingsMap": {},
     "title": ""
    }
   },
   "outputs": [],
   "source": [
    "## Display other breakdown\n",
    "def print_other(col):\n",
    "    if not '_other' in col:\n",
    "        col = col + '_other'\n",
    "    srs = df[df[col].str.strip() != ''][col]\n",
    "    for elem in srs:\n",
    "        print(elem)\n",
    "        print()"
   ]
  },
  {
   "cell_type": "code",
   "execution_count": 0,
   "metadata": {
    "application/vnd.databricks.v1+cell": {
     "cellMetadata": {
      "byteLimit": 2048000,
      "rowLimit": 10000
     },
     "inputWidgets": {},
     "nuid": "5fcbd91a-7234-4074-bbf1-35aea0009855",
     "showTitle": false,
     "tableResultSettingsMap": {},
     "title": ""
    }
   },
   "outputs": [],
   "source": [
    "# Columns representing each MIS system\n",
    "systems = {\n",
    "    'All Integrated': 'mis_all_barriers_to_api_implementation',\n",
    "    'Joint MIS no e-Cohesion': 'mis_only_no_e_cohesion_barriers_to_api_implementation',\n",
    "    'Financial MIS': 'mis_financial_barriers_to_api_implementation',\n",
    "    'M&E MIS': 'mis_me_barriers_to_api_implementation',\n",
    "    'e-Cohesion': 'e_cohesion_barriers_to_api_implementation'\n",
    "}\n",
    "\n",
    "title='Challenges to API Adoption'\n",
    "legend='Specific Challenges'\n",
    "mode='count'\n",
    "fig = create_stacked_plots(df, systems, title, legend, mode=mode, width=900, height=400, barwidth=0.3, show_blank_cols=True, barmode='stack', swap=True)\n",
    "display(fig)\n",
    "\n",
    "## aggregate by specific challenge\n",
    "## do not double count votes\n",
    "## consolidate systems into single\n"
   ]
  },
  {
   "cell_type": "markdown",
   "metadata": {
    "application/vnd.databricks.v1+cell": {
     "cellMetadata": {
      "byteLimit": 2048000,
      "rowLimit": 10000
     },
     "inputWidgets": {},
     "nuid": "5ea6dca3-f76a-45ab-9aab-da07684de29b",
     "showTitle": false,
     "tableResultSettingsMap": {},
     "title": ""
    }
   },
   "source": [
    "# Slide 1/4 - Background"
   ]
  },
  {
   "cell_type": "code",
   "execution_count": 0,
   "metadata": {
    "application/vnd.databricks.v1+cell": {
     "cellMetadata": {
      "byteLimit": 2048000,
      "rowLimit": 10000
     },
     "inputWidgets": {},
     "nuid": "f04a964a-f2d7-4eda-b17a-26a5b2a583c3",
     "showTitle": true,
     "tableResultSettingsMap": {},
     "title": "SUMMARY STATISTICS"
    },
    "jupyter": {
     "source_hidden": true
    }
   },
   "outputs": [],
   "source": [
    "\"\"\"\n",
    "Total number of respondents\n",
    "Percent of survey completed\n",
    "Number of countries represented\n",
    "number of respondents per country\n",
    "\n",
    "\"\"\"\n",
    "summ_df = raw_df[7:]\n",
    "total = len(summ_df)\n",
    "total_countries = summ_df['ms_name'].nunique()\n",
    "countries = summ_df['ms_name'].value_counts().to_frame(name='count')\n",
    "resp_df = summ_df.copy()\n",
    "\n",
    "# --- Unique emails per country ---\n",
    "exploded_df = (\n",
    "    resp_df\n",
    "    .assign(join_email=resp_df['join_email'].str.split(' '))\n",
    "    .explode('join_email')\n",
    ")\n",
    "\n",
    "exploded_df['join_email'] = exploded_df['join_email'].str.strip()\n",
    "exploded_df = exploded_df[exploded_df['join_email'] != '']\n",
    "\n",
    "unique_mas_per_country = (\n",
    "    resp_df\n",
    "    .drop_duplicates(subset=['ms_name', 'ma_name']) \n",
    "    .groupby('ms_name')['ma_name']\n",
    "    .count()\n",
    "    .reset_index(name='unique_ma_count')\n",
    ").sort_values(by='unique_ma_count', ascending=False)\n",
    "\n",
    "print(f'Total number of respondents: {total}')\n",
    "print(f'Number of countries represented: {total_countries}')\n",
    "print(f'Number of respondents per country:')\n",
    "display(unique_mas_per_country)\n",
    "print('checksum: ', sum(unique_mas_per_country['unique_ma_count']))"
   ]
  },
  {
   "cell_type": "code",
   "execution_count": 0,
   "metadata": {
    "application/vnd.databricks.v1+cell": {
     "cellMetadata": {
      "byteLimit": 2048000,
      "rowLimit": 10000
     },
     "inputWidgets": {},
     "nuid": "a627a232-9750-4c3d-8eff-33f77765ba4d",
     "showTitle": true,
     "tableResultSettingsMap": {},
     "title": "MAP"
    },
    "jupyter": {
     "source_hidden": true
    }
   },
   "outputs": [],
   "source": [
    "import plotly.express as px\n",
    "import plotly.graph_objs as go\n",
    "\n",
    "\n",
    "fig = px.choropleth(\n",
    "    unique_mas_per_country,\n",
    "    locations='ms_name',\n",
    "    locationmode='country names',\n",
    "    color='unique_ma_count',\n",
    "    hover_name='ms_name',\n",
    "    color_continuous_scale= ['#e6f5d0', '#a1d99b', '#41ab5d'],\n",
    "    labels={'unique_ma_count': 'Responses'},\n",
    "    title='Responses by EU Country'\n",
    ")\n",
    "\n",
    "\n",
    "fig.add_trace(\n",
    "    go.Scattergeo(\n",
    "        locations=unique_mas_per_country['ms_name'],\n",
    "        locationmode='country names',\n",
    "        text=unique_mas_per_country['unique_ma_count'],\n",
    "        mode='text',\n",
    "        textfont=dict(size=10),\n",
    "        showlegend=False\n",
    "    )\n",
    ")\n",
    "\n",
    "\n",
    "fig.update_geos(\n",
    "    projection_type='natural earth',\n",
    "    showcountries=True,\n",
    "    showcoastlines=True,\n",
    "    coastlinecolor='Black',\n",
    "    lataxis_range=[34, 72],\n",
    "    lonaxis_range=[-25, 40]\n",
    ")\n",
    "\n",
    "\n",
    "#fig.write_image(\"/dbfs/tmp/eu_map.png\", width=1000, height=800)\n",
    "#displayHTML(f'<a href=\"/files/tmp/eu_map.png\" target=\"_blank\">Download EU Map</a>')\n"
   ]
  },
  {
   "cell_type": "markdown",
   "metadata": {
    "application/vnd.databricks.v1+cell": {
     "cellMetadata": {
      "byteLimit": 2048000,
      "rowLimit": 10000
     },
     "inputWidgets": {},
     "nuid": "b142c0be-a0a6-4768-a212-892173c12966",
     "showTitle": false,
     "tableResultSettingsMap": {},
     "title": ""
    }
   },
   "source": [
    "# Slide 2/4 - Use of Data and Reporting Systems​"
   ]
  },
  {
   "cell_type": "markdown",
   "metadata": {
    "application/vnd.databricks.v1+cell": {
     "cellMetadata": {
      "byteLimit": 2048000,
      "rowLimit": 10000
     },
     "inputWidgets": {},
     "nuid": "11151144-5a09-444c-8f81-f42a53a517d9",
     "showTitle": false,
     "tableResultSettingsMap": {},
     "title": ""
    }
   },
   "source": [
    "### Systems and Integrations​ - Systems per Managing Authorities"
   ]
  },
  {
   "cell_type": "code",
   "execution_count": 0,
   "metadata": {
    "application/vnd.databricks.v1+cell": {
     "cellMetadata": {
      "byteLimit": 2048000,
      "rowLimit": 10000
     },
     "inputWidgets": {},
     "nuid": "61f4f248-d006-4c0b-922b-88148c6db852",
     "showTitle": true,
     "tableResultSettingsMap": {},
     "title": "SYSTEM INTEGRATION LEVEL - PIE"
    }
   },
   "outputs": [],
   "source": [
    "df['system_integration_label'] = df['single_or_separate_system'].replace({\n",
    "    'all_integrated': 'One system: integrated MIS and e-Cohesion',\n",
    "    'one_mis_separate_e_cohesion': 'Two systems: one e-Cohesion, one MIS',\n",
    "    'results_integrated_e_cohesion': 'Two systems: one MIS integrated with e-Cohesion, one additional MIS',\n",
    "    'financial_integrated_e_cohesion': 'Two systems: one MIS integrated with e-Cohesion, one additional MIS',\n",
    "    'all_separate': 'Multiple Systems',\n",
    "})\n",
    "\n",
    "filtered = df['system_integration_label'].replace('', pd.NA).dropna()\n",
    "counts = filtered.value_counts()\n",
    "sample_size = counts.sum()\n",
    "\n",
    "def create_pie_chart(counts, title, sample_size,order=None,note_size=10,note_align='left', height=600,width=600,note_x=0.5,note_y=-0.35,legend_y=-.35):\n",
    "    pie_df = pd.DataFrame({\n",
    "        'label': counts.index.tolist(),\n",
    "        'value': counts.values.tolist()\n",
    "    })\n",
    "\n",
    "    fig = px.pie(\n",
    "        pie_df,\n",
    "        names='label',\n",
    "        values='value',\n",
    "        color_discrete_sequence=['#2ca02c', '#1f77b4', '#ff7f0e', 'grey'],\n",
    "        title='System Integration Level',\n",
    "        category_orders={'label': order} if order else None\n",
    "    )\n",
    "\n",
    "    fig.update_traces(\n",
    "        textposition='inside',\n",
    "        textinfo='percent',\n",
    "        textfont_size=18,\n",
    "        texttemplate='%{percent:.0%}',\n",
    "        showlegend=True\n",
    "    )\n",
    "\n",
    "    fig.update_layout(\n",
    "        title=dict(\n",
    "            text=title,\n",
    "            x=0.5,\n",
    "            xanchor='center',\n",
    "            font=dict(size=20, color=\"#333\")\n",
    "        ),\n",
    "        font=dict(size=12, color=\"#333\"),\n",
    "        legend=dict(\n",
    "            orientation='h',\n",
    "            yanchor='bottom',\n",
    "            y=legend_y,\n",
    "            xanchor='center',\n",
    "            x=0.5\n",
    "        ),\n",
    "        height=height,\n",
    "        width=width,\n",
    "        paper_bgcolor='white',\n",
    "        plot_bgcolor='white',\n",
    "        margin=dict(t=80, b=50, l=20, r=20),\n",
    "        annotations=[\n",
    "            dict(\n",
    "                text=f'Sample Size = {sample_size}',\n",
    "                x=note_x,\n",
    "                y=note_y,\n",
    "                xref='paper',\n",
    "                yref='paper',\n",
    "                showarrow=False,\n",
    "                font=dict(size=note_size),\n",
    "                align='right'\n",
    "            )\n",
    "        ]\n",
    "    )\n",
    "\n",
    "\n",
    "    return fig\n",
    "\n",
    "title = 'System Integration Level'\n",
    "display(counts)\n",
    "create_pie_chart(counts, title, sample_size)"
   ]
  },
  {
   "cell_type": "markdown",
   "metadata": {
    "application/vnd.databricks.v1+cell": {
     "cellMetadata": {
      "byteLimit": 2048000,
      "rowLimit": 10000
     },
     "inputWidgets": {},
     "nuid": "a6c19445-3c44-4d8b-9a18-4edaaa00927e",
     "showTitle": false,
     "tableResultSettingsMap": {},
     "title": ""
    }
   },
   "source": [
    "## Slide (3/4) - Integrations & Data Processes​"
   ]
  },
  {
   "cell_type": "code",
   "execution_count": 0,
   "metadata": {
    "application/vnd.databricks.v1+cell": {
     "cellMetadata": {
      "byteLimit": 2048000,
      "rowLimit": 10000
     },
     "inputWidgets": {},
     "nuid": "e343be83-faac-44ee-9c42-9c841400637b",
     "showTitle": false,
     "tableResultSettingsMap": {},
     "title": ""
    }
   },
   "outputs": [],
   "source": [
    "systems = {\n",
    "    'All Integrated': 'mis_all_api_data_transmission',\n",
    "    'MIS Only': 'mis_only_no_e_cohesion_api_data_transmission',\n",
    "    'Financial MIS': 'mis_financial_api_data_transmission',\n",
    "    'M&E MIS': 'mis_me_api_data_transmission',\n",
    "    'e-Cohesion': 'e_cohesion_api_data_transmission'\n",
    "}\n",
    "\n",
    "value_change_dict={'yes': 'Yes', 'no': 'No', 'no_but_pursuing': 'Planned','does_not_know': \"I don't know\"}\n",
    "\n",
    "\n",
    "title='API Data Tranmission <br>Capabilities for MA Systems'\n",
    "legend = 'Answers'\n",
    "fig = create_stacked_plots(df, systems, title, legend, height=400,width=600)\n",
    "# display(fig)\n",
    "\n",
    "cols = systems.values()\n",
    "sub_df = df[list(cols) + ['caseid']]\n",
    "temp = df[list(cols)]\n",
    "temp = temp[~(temp == '').all(axis=1)]\n",
    "n = str(len(temp)) + ' Managing Authorities. MAs can have multiple systems'\n",
    "\n",
    "sub_df = sub_df.melt(id_vars='caseid', value_vars=cols, var_name='system', value_name='answer')\n",
    "\n",
    "# sub_df = sub_df.drop_duplicates(subset=['caseid','answer'])\n",
    "sub_df = sub_df[~sub_df['answer'].isin(['', 'does_not_know'])]\n",
    "n = len(sub_df)\n",
    "duplicate_rows = sub_df[sub_df.duplicated(subset=['caseid'], keep=False)]\n",
    "duplicate_rows = duplicate_rows.sort_values(by='caseid')\n",
    "\n",
    "counts = sub_df['answer'].value_counts()\n",
    "counts.index=counts.index.map(value_change_dict)\n",
    "# display(sub_df)\n",
    "\n",
    "order = ['Yes', 'Planned', 'No', \"I don't know\"]\n",
    "note_x = .5\n",
    "note_y = -.25\n",
    "height = 350\n",
    "legend_y= -.2\n",
    "width = height\n",
    "fig = create_pie_chart(counts, title, n, order, height = height, width = width,note_x=note_x,note_y=note_y,legend_y=legend_y)\n",
    "display(fig)"
   ]
  },
  {
   "cell_type": "code",
   "execution_count": 0,
   "metadata": {
    "application/vnd.databricks.v1+cell": {
     "cellMetadata": {
      "byteLimit": 2048000,
      "rowLimit": 10000
     },
     "inputWidgets": {},
     "nuid": "7e11a56b-f79b-4361-8e79-3a82bd31f03f",
     "showTitle": true,
     "tableResultSettingsMap": {},
     "title": "SYSTEM INTEGRATION LEVEL - BAR"
    },
    "jupyter": {
     "outputs_hidden": true,
     "source_hidden": true
    }
   },
   "outputs": [],
   "source": [
    "systems = {\n",
    "    'System Integration': 'single_or_separate_system',\n",
    "}\n",
    "\n",
    "title='System Integration Level'\n",
    "legend = ''\n",
    "fig = create_stacked_plots(df,systems,title,legend,height=400,width=600,barmode='stack')\n",
    "fig"
   ]
  },
  {
   "cell_type": "code",
   "execution_count": 0,
   "metadata": {
    "application/vnd.databricks.v1+cell": {
     "cellMetadata": {
      "byteLimit": 2048000,
      "rowLimit": 10000
     },
     "inputWidgets": {},
     "nuid": "2428ddd9-c9c0-4a89-be7e-eae5657b88e0",
     "showTitle": false,
     "tableResultSettingsMap": {},
     "title": ""
    }
   },
   "outputs": [],
   "source": [
    "systems = {\n",
    "    'SFC': 'sfc_automation_level',\n",
    "    'Arachne': 'arachne_submission',\n",
    "    # 'MA Website': 'operations_publishing_pipeline',\n",
    "}\n",
    "title='Data Processes Automation'\n",
    "\n",
    "sub_df = df[['sfc_automation_level','arachne_submission','operations_publishing_pipeline']]\n",
    "\n",
    "value_change_dict = {'fully':'fully_automatic',\n",
    "                        'mostly_automatic':'partially_automatic',\n",
    "                        'mostly_manual':'partially_automatic',\n",
    "                        'partially':'partially_automatic',\n",
    "                        'not_at_all':'fully_manual',\n",
    "                    }\n",
    "\n",
    "sub_df = sub_df.applymap(lambda x: value_change_dict.get(x, x))\n",
    "legend = 'Automation Level'\n",
    "category_orders=['Fully automatic','Partially automatic','Fully manual','Other']\n",
    "legend_format=dict(\n",
    "    title='',\n",
    "    orientation=\"h\",\n",
    "    yanchor=\"bottom\",\n",
    "    y=-1,  # try -0.2 to -0.4 depending on how low you want it\n",
    "    xanchor=\"center\",\n",
    "    x=.5\n",
    ")\n",
    "ytitle='% of Respondents'\n",
    "note_x = .5\n",
    "note_y = -.35\n",
    "# legend_format=None\n",
    "\n",
    "fig = create_stacked_plots(sub_df, systems, title, legend, mode='percent', height=400, barwidth=.5, width=500, orientation='v',category_orders=category_orders,legend_format=legend_format,ytitle=ytitle,note_x=note_x,note_y=note_y)\n",
    "fig\n",
    "\n",
    "\n",
    "## change to percent\n",
    "## Remove MA Website\n",
    "## logical progression of legend"
   ]
  },
  {
   "cell_type": "markdown",
   "metadata": {
    "application/vnd.databricks.v1+cell": {
     "cellMetadata": {
      "byteLimit": 2048000,
      "rowLimit": 10000
     },
     "inputWidgets": {},
     "nuid": "56907af8-8bab-4ab1-a244-bcfaf3bb1e1e",
     "showTitle": false,
     "tableResultSettingsMap": {},
     "title": ""
    }
   },
   "source": [
    "## Slide (4/4) - Constraints"
   ]
  },
  {
   "cell_type": "code",
   "execution_count": 0,
   "metadata": {
    "application/vnd.databricks.v1+cell": {
     "cellMetadata": {
      "byteLimit": 2048000,
      "rowLimit": 10000
     },
     "inputWidgets": {},
     "nuid": "3d455511-9596-46e1-9225-b005e5bd307e",
     "showTitle": false,
     "tableResultSettingsMap": {},
     "title": ""
    }
   },
   "outputs": [],
   "source": [
    "choices = df['reason_for_no_api_use'].str.split(' ').explode().value_counts().to_frame(name='choices')\n",
    "choices = list(filter(None, choices.index.to_list()))\n",
    "value_dict = get_values_dict(choices)\n",
    "value_dict"
   ]
  },
  {
   "cell_type": "code",
   "execution_count": 0,
   "metadata": {
    "application/vnd.databricks.v1+cell": {
     "cellMetadata": {
      "byteLimit": 2048000,
      "rowLimit": 10000
     },
     "inputWidgets": {},
     "nuid": "d281e02a-adbd-4951-b7f7-3941b9a4c6aa",
     "showTitle": false,
     "tableResultSettingsMap": {},
     "title": ""
    }
   },
   "outputs": [],
   "source": [
    "ud= 'under_development'\n",
    "idk = \"i_do_not_know\"\n",
    "lr = 'budgetary_restrictions'\n",
    "not_decision_maker = 'not_decision_maker'\n",
    "insufficient_info = 'insufficient_info'\n",
    "others = {\n",
    "  \"Communication between MIS and SFC needs to be developed\": ud,\n",
    "  \"Automated system-to-system submission via API under developement\":ud,\n",
    "  \"I have no idea. It's a technical question, same the question above. I am in the MA responsible for preparing reports and I have no in-depth knowledge on technical aspects of the process.\": not_decision_maker,\n",
    "  'Fewer and simpler programmes.': 'too_difficult',\n",
    "  \"we are currently exploring the development of a method to automate the data transmission to SFC. For the moment we've implemented a new local application which is able to work with APIs and we are now at the beginning of implementing imports of APIs from\":ud,\n",
    "  \"As an end user, our organization is not involved in the technical decisions regarding web services or APIs for the SFC\":not_decision_maker,\n",
    "  \"New eCohesion system, development has focused on must-have features and data integrity. Development on SFC web services / API will follow.\":ud,\n",
    "  \"Limited IT resources\":lr,\n",
    "  \"Zu wenig Informationen über API. Keine Werbung über die Möglichkeiten.\": insufficient_info,\n",
    "  \"lack of recources\":lr,\n",
    "  \"Non siamo adeguatamente informati di tali possibilità\": insufficient_info,\n",
    "  \"\"\"Implementation of API is hard to facillitate in our JEMS system as it is run on goverment servers and external \"links\" are difficult to set up due to security concerns.\"\"\":lr,\n",
    "  \"insufficient information about API capabilities  of SFC available\": insufficient_info,\n",
    "  \"Transmission of data should be incorporated at the central MIS level. Currently under development.\":ud,\n",
    "  \"We don't know\": idk,\n",
    "  \"too extensive and time-consuming programming\":lr,\n",
    "  '\"An integration with SFC web services is planned in the near future.\"': ud,\n",
    "  \"\"\"the interoperability has not been ensured yet by SFC at the moment of the development of our system, so for this programming period we do not plan to change the existing system\"\"\": lr,\n",
    "  \"didn't know until now this was an option, we informed a couple years ago but then it wasn't an option\": insufficient_info,\n",
    "  \"\"\"Decisions regarding the development of integration and their implementation are made at the level of the administrator - the Ministry of Funds and Regional Policy (MFiPR).\"\"\": not_decision_maker,\n",
    "  \"The system is designed for the program activity covered by national funds\":idk,\n",
    "  \"There is no entry.\":idk,\n",
    "  \"We don't information in this regard. MySMIS 2021/SMIS2021+ is operated by Special Telecommunications Service.\":idk,\n",
    "  \"I don't know, data transfer is not under the responsibility of the MA, but national coordinating body\":idk\n",
    "}\n",
    "\n",
    "\n",
    "ytitle=''\n",
    "xtitle=None\n",
    "title = f\"Challenges to SFC API Implementation\"\n",
    "mode='percent'\n",
    "col1 = 'reason_for_no_api_use'\n",
    "col2 = 'reason_for_no_api_use_other'\n",
    "\n",
    "def process_value(row, others):\n",
    "    # Split col1 into a list if it's not already\n",
    "    col1_values = row[col1].split(' ') if isinstance(row[col1], str) else row[col1]\n",
    "    \n",
    "    processed_values = []\n",
    "    for x in col1_values:\n",
    "        if x == 'other' and row[col2] in others:\n",
    "            replacement = others[row[col2]]\n",
    "            if isinstance(replacement, list):\n",
    "                processed_values.extend(replacement)\n",
    "            elif isinstance(replacement, str) and replacement:\n",
    "                processed_values.append(replacement)\n",
    "        else:\n",
    "            # Keep the original value\n",
    "            processed_values.append(x)\n",
    "    \n",
    "    # Join the list back into a space-separated string\n",
    "    return ' '.join(processed_values)\n",
    "  \n",
    "sub_df = df[[col1, col2]]\n",
    "sub_df.loc[:, col1] = sub_df.apply(lambda row: process_value(row, others), axis=1)\n",
    "\n",
    "sub_df = sub_df[~sub_df[col1].str.contains('|'.join(['i_do_not_know', 'under_development', 'likes_as_is']), na=False)]\n",
    "\n",
    "change_values_dict = {\n",
    "  'not_decision_maker': 'Not the decision maker',\n",
    "  'insufficient_info': 'Insufficient information on API',\n",
    "}\n",
    "width = 500\n",
    "\n",
    "horizontal_bar_chart(sub_df, col1, title, xtitle, mode=mode, change_values_dict=change_values_dict, max_x=50, width=width)"
   ]
  },
  {
   "cell_type": "code",
   "execution_count": 0,
   "metadata": {
    "application/vnd.databricks.v1+cell": {
     "cellMetadata": {
      "byteLimit": 2048000,
      "rowLimit": 10000
     },
     "inputWidgets": {},
     "nuid": "a8d1e5eb-fc1f-4f93-88ab-07ad829665b1",
     "showTitle": false,
     "tableResultSettingsMap": {},
     "title": ""
    }
   },
   "outputs": [],
   "source": [
    "sub_df.reason_for_no_api_use.unique()"
   ]
  },
  {
   "cell_type": "code",
   "execution_count": 0,
   "metadata": {
    "application/vnd.databricks.v1+cell": {
     "cellMetadata": {
      "byteLimit": 2048000,
      "rowLimit": 10000
     },
     "inputWidgets": {},
     "nuid": "9a8e8c92-4eae-4e42-94bd-a40b3b6a90e4",
     "showTitle": false,
     "tableResultSettingsMap": {},
     "title": ""
    }
   },
   "outputs": [],
   "source": [
    "df.resources_to_implement_api_other.unique().tolist()"
   ]
  },
  {
   "cell_type": "code",
   "execution_count": 0,
   "metadata": {
    "application/vnd.databricks.v1+cell": {
     "cellMetadata": {
      "byteLimit": 2048000,
      "rowLimit": 10000
     },
     "inputWidgets": {},
     "nuid": "8786fd51-94b2-4f2b-9274-f33e88ea1f6d",
     "showTitle": false,
     "tableResultSettingsMap": {},
     "title": ""
    }
   },
   "outputs": [],
   "source": [
    "choices = df['resources_to_implement_api'].str.split(' ').explode().value_counts().to_frame(name='choices')\n",
    "choices = list(filter(None, choices.index.to_list()))\n",
    "value_dict = get_values_dict(choices)\n",
    "value_dict"
   ]
  },
  {
   "cell_type": "code",
   "execution_count": 0,
   "metadata": {
    "application/vnd.databricks.v1+cell": {
     "cellMetadata": {
      "byteLimit": 2048000,
      "rowLimit": 10000
     },
     "inputWidgets": {},
     "nuid": "9d77ed34-404b-4c88-b06c-04aff1428cce",
     "showTitle": false,
     "tableResultSettingsMap": {},
     "title": ""
    }
   },
   "outputs": [],
   "source": [
    "col1 = 'resources_to_implement_api'\n",
    "col2 = 'resources_to_implement_api_other'\n",
    "\n",
    "title='Resources needed to facilitate broader API adoption'\n",
    "xtitle = ''\n",
    "ytitle=''\n",
    "mode='percent'\n",
    "\n",
    "bg = 'budget'\n",
    "tr = 'training'\n",
    "rg = 'regulatory_changes'\n",
    "ta = 'technical_assistance'\n",
    "idoc = 'improved_documentation'\n",
    "pe = 'peer_experience'\n",
    "mbi = 'member_state_buy_in'\n",
    "\n",
    "all = [bg, tr, rg, ta, idoc, pe, mbi]\n",
    "\n",
    "others = {\n",
    "    \"I don't know\": '',\n",
    "    'provisions in EU regulations obliging the MAs to develop API connection with SFC': rg,\n",
    "    'We have no interest in API-based reporting at this point.': '',\n",
    "    'all of the above': all,\n",
    "    'As an end user of the SFC, our organization is not involved in the technical decisions regarding the adoption of API-based reporting. This would be a matter for our system administrators to evaluate and implement': '',\n",
    "    'MA relies on internal non-IT specilaists wokring with external IT specialists to develop our eCoesion system. We made some early tentative steps towards web services at early development phase before decision to defer this due to the technical leap requi': '',\n",
    "    'Need of improved IT resources': [bg, tr, ta, idoc],\n",
    "    'CST2021 is not a MA system but a Member State system': mbi,\n",
    "    'Data transfer runs fine even with the current set up': '',\n",
    "    'NA': '',\n",
    "    'We are satisfied with current situation.': '',\n",
    "    'Currently under development.': '',\n",
    "    'no further support needed': '',\n",
    "    'Do not know': '',\n",
    "    'We have to explore this now': '',\n",
    "    'Decisions regarding the development of integration and their implementation are made at the level of the administrator - the Ministry of Funds and Regional Policy (MFiPR).': mbi,\n",
    "    'Maggiori informazioni sulla disponibilità e modalità di utilizzo': [tr, ta, idoc],\n",
    "    'dedicated infrastructure': ta,\n",
    "    'Dedicated infrastructure': ta,\n",
    "    'Does not fall under the responsibilities of the MA. MySMIS 2021/SMIS2021+ is operated by Special Telecommunications Service.': '',\n",
    "    'Nie znamy odpowiedzi, informacji powinien udzielić właściciel systemu.': '',\n",
    "    'I don´t know, I am not expert in this area.': '',\n",
    "}\n",
    "\n",
    "\n",
    "sub_df = process_others(df, col1, col2, others)\n",
    "\n",
    "change_values_dict = {\n",
    "  'member_state_buy_in': 'Central MS agency buy-in',\n",
    "  'technical_assistance': 'IT support / technical assistence'\n",
    "}\n",
    "\n",
    "width = 550\n",
    "horizontal_bar_chart(sub_df, col1, title, xtitle, mode=mode, width=width, change_values_dict=change_values_dict, max_x=70)"
   ]
  },
  {
   "cell_type": "markdown",
   "metadata": {
    "application/vnd.databricks.v1+cell": {
     "cellMetadata": {
      "byteLimit": 2048000,
      "rowLimit": 10000
     },
     "inputWidgets": {},
     "nuid": "d7e8812c-5e5f-4ad2-bcec-5c1f1d17bf1f",
     "showTitle": false,
     "tableResultSettingsMap": {},
     "title": ""
    }
   },
   "source": [
    "### Operational Needs Alignment"
   ]
  },
  {
   "cell_type": "code",
   "execution_count": 0,
   "metadata": {
    "application/vnd.databricks.v1+cell": {
     "cellMetadata": {
      "byteLimit": 2048000,
      "rowLimit": 10000
     },
     "inputWidgets": {},
     "nuid": "54590bcb-aedb-4217-9bfd-0c483542a5c0",
     "showTitle": true,
     "tableResultSettingsMap": {},
     "title": "STACKED BY SYSTEMS"
    }
   },
   "outputs": [],
   "source": [
    "systems = {\n",
    "    'Joint MIS': 'mis_meeting_needs',\n",
    "    'Financial MIS': 'mis_financial_meeting_needs',\n",
    "    'M&E MIS': 'mis_me_meeting_needs',\n",
    "    'e-Cohesion': 'e_cohesion_meeting_needs'\n",
    "}\n",
    "note_x = 0.5\n",
    "note_y = -.75\n",
    "\n",
    "title='How Well Systems Meet Operational Needs'\n",
    "legend = ''\n",
    "fig = create_stacked_plots(df,systems,title,legend,height=400,width=600,note_y=note_y,note_x=note_x)\n",
    "fig"
   ]
  },
  {
   "cell_type": "code",
   "execution_count": 0,
   "metadata": {
    "application/vnd.databricks.v1+cell": {
     "cellMetadata": {
      "byteLimit": 2048000,
      "rowLimit": 10000
     },
     "collapsed": true,
     "inputWidgets": {},
     "nuid": "6409d53d-ad82-4565-8e05-8503d062c61a",
     "showTitle": false,
     "tableResultSettingsMap": {},
     "title": ""
    }
   },
   "outputs": [],
   "source": [
    "systems = {\n",
    "    'Joint MIS': 'mis_programmes_managed',\n",
    "    'Financial MIS': 'mis_financial_programmes_managed',\n",
    "    'M&E MIS': 'mis_me_programmes_managed',\n",
    "    'e-Cohesion': 'e_cohesion_programmes_managed'\n",
    "}\n",
    "\n",
    "title='Programmes Managed In System'\n",
    "legend = ''\n",
    "fig = create_stacked_plots(df,systems,title,legend,height=400,width=600)\n",
    "fig"
   ]
  },
  {
   "cell_type": "code",
   "execution_count": 0,
   "metadata": {
    "application/vnd.databricks.v1+cell": {
     "cellMetadata": {
      "byteLimit": 2048000,
      "rowLimit": 10000
     },
     "collapsed": true,
     "inputWidgets": {},
     "nuid": "76a00725-edc6-4dc5-822d-9b913e534d9d",
     "showTitle": false,
     "tableResultSettingsMap": {},
     "title": ""
    }
   },
   "outputs": [],
   "source": [
    "# Columns representing each MIS system\n",
    "systems = {\n",
    "    'All Integrated': 'mis_all_barriers_to_api_implementation',\n",
    "    'Joint MIS no e-Cohesion': 'mis_only_no_e_cohesion_barriers_to_api_implementation',\n",
    "    'Financial MIS': 'mis_financial_barriers_to_api_implementation',\n",
    "    'M&E MIS': 'mis_me_barriers_to_api_implementation',\n",
    "    'e-Cohesion': 'e_cohesion_barriers_to_api_implementation'\n",
    "}\n",
    "\n",
    "title='Challenges to API Adoption'\n",
    "legend='Specific Challenges'\n",
    "fig = create_stacked_plots(df, systems, title, legend, width=900, height=500, barwidth=0.1, show_blank_cols=True, barmode='stack')\n",
    "fig"
   ]
  },
  {
   "cell_type": "code",
   "execution_count": 0,
   "metadata": {
    "application/vnd.databricks.v1+cell": {
     "cellMetadata": {
      "byteLimit": 2048000,
      "rowLimit": 10000
     },
     "inputWidgets": {},
     "nuid": "2fd11e64-e489-457f-8738-643ab093561c",
     "showTitle": false,
     "tableResultSettingsMap": {},
     "title": ""
    }
   },
   "outputs": [],
   "source": [
    "title = 'Most mentioned barriers to API adoption'\n",
    "legend = 'Most mentioned barriers to API adoption'\n",
    "\n",
    "df['All systems'] = df[list(systems.values())].apply(\n",
    "    lambda row: ' '.join(filter(None, row.astype(str))), axis=1\n",
    ")\n",
    "\n",
    "combined_systems = {'All systems': 'All systems'}\n",
    "note_x=1\n",
    "note_y =-.1\n",
    "fig = create_stacked_plots(\n",
    "    df, \n",
    "    combined_systems, \n",
    "    title, \n",
    "    legend, \n",
    "    width=900, \n",
    "    height=500, \n",
    "    barwidth=0.1, \n",
    "    show_blank_cols=True, \n",
    "    barmode='stack',\n",
    "    note_y=note_y,\n",
    "    note_x=note_x\n",
    ")\n",
    "fig"
   ]
  },
  {
   "cell_type": "code",
   "execution_count": 0,
   "metadata": {
    "application/vnd.databricks.v1+cell": {
     "cellMetadata": {
      "byteLimit": 2048000,
      "rowLimit": 10000
     },
     "inputWidgets": {},
     "nuid": "384480d9-257f-40ef-87ec-1c1f988454c1",
     "showTitle": false,
     "tableResultSettingsMap": {},
     "title": ""
    }
   },
   "outputs": [],
   "source": [
    "choices = df['reason_for_no_api_use'].str.split(' ').explode().value_counts().to_frame(name='choices')\n",
    "choices = list(filter(None,choices.index.to_list()))\n",
    "value_dict = get_values_dict(choices)"
   ]
  },
  {
   "cell_type": "markdown",
   "metadata": {
    "application/vnd.databricks.v1+cell": {
     "cellMetadata": {
      "byteLimit": 2048000,
      "rowLimit": 10000
     },
     "inputWidgets": {},
     "nuid": "912c23f9-05d1-4d7e-9999-15021e0acc0a",
     "showTitle": false,
     "tableResultSettingsMap": {},
     "title": ""
    }
   },
   "source": [
    "## Others"
   ]
  },
  {
   "cell_type": "code",
   "execution_count": 0,
   "metadata": {
    "application/vnd.databricks.v1+cell": {
     "cellMetadata": {
      "byteLimit": 2048000,
      "rowLimit": 10000
     },
     "collapsed": true,
     "inputWidgets": {},
     "nuid": "e0efdd3a-2aee-451f-a6b2-b48467cbea00",
     "showTitle": false,
     "tableResultSettingsMap": {},
     "title": ""
    }
   },
   "outputs": [],
   "source": [
    "bg='budget'\n",
    "tr='training'\n",
    "rg='regulatory_changes'\n",
    "ta='technical_assistance'\n",
    "_id='improved_documentation'\n",
    "pe='peer_experience'\n",
    "al = 'All'\n",
    "by = \"buy-in_from_member_state_central_agency\"\n",
    "\n",
    "\n",
    "others = {\"provisions in EU regulations obliging the MAs to develop API connection with SFC\":  rg,\n",
    "\"all of the above\":al,\n",
    "\"Need of improved IT resources\": tr,\n",
    "\"CST2021 is not a MA system but a Member State system\":by,\n",
    "\"Decisions regarding the development of integration and their implementation are made at the level of the administrator - the Ministry of Funds and Regional Policy (MFiPR).\":by,\n",
    "\"Maggiori informazioni sulla disponibilità e modalità di utilizzo\" : tr\n",
    " \n",
    "}\n",
    "\n",
    "col1 = 'resources_to_implement_api'\n",
    "col2 = 'resources_to_implement_api_other'\n",
    "title = f\"Reported Resources Needed for API Adoption\"\n",
    "xtitle=''\n",
    "\n",
    "sub_df = process_others(df,col1,col2,others)\n",
    "mode='percent'\n",
    "ytitle=None\n",
    "bar_chart(df, col, title=title, xtitle=xtitle, mode=mode,height=550)"
   ]
  },
  {
   "cell_type": "code",
   "execution_count": 0,
   "metadata": {
    "application/vnd.databricks.v1+cell": {
     "cellMetadata": {
      "byteLimit": 2048000,
      "rowLimit": 10000
     },
     "collapsed": true,
     "inputWidgets": {},
     "nuid": "c5dfd298-806c-4ee3-ac32-f9abebbaee62",
     "showTitle": false,
     "tableResultSettingsMap": {},
     "title": ""
    }
   },
   "outputs": [],
   "source": [
    "systems = {\n",
    "    'All Integrated': 'mis_all_barriers_to_api_implementation',\n",
    "    'Joint MIS no e-Cohesion': 'mis_only_no_e_cohesion_barriers_to_api_implementation',\n",
    "    'Financial MIS': 'mis_financial_barriers_to_api_implementation',\n",
    "    'M&E MIS': 'mis_me_barriers_to_api_implementation',\n",
    "    'e-Cohesion': 'e_cohesion_barriers_to_api_implementation'\n",
    "}\n",
    "cols = list(systems.values())\n",
    "sub_df = df[cols + ['caseid']]\n",
    "\n",
    "sub_df = sub_df.melt(id_vars='caseid', value_vars=cols, var_name='System', value_name='Barrier')\n",
    "sub_df = sub_df[sub_df['Barrier']!='']\n",
    "n = len(sub_df)\n",
    "exploded = sub_df['Barrier'].str.split(' ').explode()\n",
    "counts = exploded.value_counts().to_frame().rename(columns={'Barrier':'count'})\n",
    "counts.index.name = 'answer'\n",
    "counts = counts.reset_index()\n",
    "\n",
    "counts['percent'] = counts['count']/n*100\n",
    "\n",
    "counts.answer = counts.answer.apply(lambda x:underscore_to_sentence(x))\n",
    "display(counts)\n",
    "title = f'Challenges to Broad API Adoption<br> (n={n})'\n",
    "\n",
    "xtitle=''\n",
    "ytitle=''\n",
    "has_any_multiple=False\n",
    "\n",
    "fig = vertical_bar_chart(counts, title=title, xtitle=xtitle, ytitle=ytitle, has_any_multiple=has_any_multiple, width=400, height=500)\n",
    "display(fig)"
   ]
  },
  {
   "cell_type": "code",
   "execution_count": 0,
   "metadata": {
    "application/vnd.databricks.v1+cell": {
     "cellMetadata": {
      "byteLimit": 2048000,
      "rowLimit": 10000
     },
     "inputWidgets": {},
     "nuid": "f51ad179-3511-43da-a261-3c0eb2d56a6a",
     "showTitle": false,
     "tableResultSettingsMap": {},
     "title": ""
    }
   },
   "outputs": [],
   "source": [
    "systems = {\n",
    "    'System Integration': 'system_integration_level',\n",
    "}\n",
    "\n",
    "title='Integration Level of Systems'\n",
    "sub_df = df[df['single_or_separate_system'] != 'all_integrated']\n",
    "\n",
    "note_x=0.5\n",
    "note_y=-.2\n",
    "legend = 'Integration Level'\n",
    "fig = create_stacked_plots(sub_df,systems,title,legend,barwidth=.1, height=400,width=600,note_y=note_y,note_x=note_x)\n",
    "fig"
   ]
  },
  {
   "cell_type": "code",
   "execution_count": 0,
   "metadata": {
    "application/vnd.databricks.v1+cell": {
     "cellMetadata": {
      "byteLimit": 2048000,
      "rowLimit": 10000
     },
     "inputWidgets": {},
     "nuid": "799b93ed-6a9d-4d44-8da7-0e8930b00964",
     "showTitle": false,
     "tableResultSettingsMap": {},
     "title": ""
    }
   },
   "outputs": [],
   "source": [
    "systems = {\n",
    "    'Arachne': 'arachne_submission'\n",
    "}\n",
    "\n",
    "title='Arachne Data Submission'\n",
    "legend = ''\n",
    "note_x=0.5\n",
    "note_y=-.2\n",
    "fig = create_stacked_plots(df,systems,title,legend,height=400,width=600\n",
    ",note_y=note_y,note_x=note_x)\n",
    "fig"
   ]
  },
  {
   "cell_type": "code",
   "execution_count": 0,
   "metadata": {
    "application/vnd.databricks.v1+cell": {
     "cellMetadata": {
      "byteLimit": 2048000,
      "rowLimit": 10000
     },
     "inputWidgets": {},
     "nuid": "0174e275-e0d6-4a7c-bdf5-272ed07d1b15",
     "showTitle": false,
     "tableResultSettingsMap": {},
     "title": ""
    }
   },
   "outputs": [],
   "source": [
    "systems = {\n",
    "    'Arachne': 'arachne_information_origin'\n",
    "}\n",
    "\n",
    "title='Where Arachne Data Comes From'\n",
    "legend = ''\n",
    "note_x=0.5\n",
    "note_y=-.2\n",
    "fig = create_stacked_plots(df,systems,title,legend,height=400,width=600,\n",
    "note_y=note_y,note_x=note_x)\n",
    "fig"
   ]
  },
  {
   "cell_type": "code",
   "execution_count": 0,
   "metadata": {
    "application/vnd.databricks.v1+cell": {
     "cellMetadata": {
      "byteLimit": 2048000,
      "rowLimit": 10000
     },
     "inputWidgets": {},
     "nuid": "9570c375-0fac-4ca7-b31b-b27d5b382461",
     "showTitle": false,
     "tableResultSettingsMap": {},
     "title": ""
    }
   },
   "outputs": [],
   "source": [
    "systems = {\n",
    "    'SFC': 'sfc_submission_types'\n",
    "}\n",
    "\n",
    "title='How Data is Submitted to SFC'\n",
    "legend = 'Submission types'\n",
    "note_y=-.05\n",
    "note_x=2\n",
    "fig = create_stacked_plots(df,systems,title,mode='percent',legend=legend,height=400,width=400,note_y=note_y,note_x=note_x)\n",
    "display(fig)"
   ]
  },
  {
   "cell_type": "code",
   "execution_count": 0,
   "metadata": {
    "application/vnd.databricks.v1+cell": {
     "cellMetadata": {
      "byteLimit": 2048000,
      "rowLimit": 10000
     },
     "inputWidgets": {},
     "nuid": "f86f5157-2559-4e8b-8fe2-fb7a43cf329f",
     "showTitle": false,
     "tableResultSettingsMap": {},
     "title": ""
    }
   },
   "outputs": [],
   "source": [
    "df['sfc_submission_types']"
   ]
  },
  {
   "cell_type": "code",
   "execution_count": 0,
   "metadata": {
    "application/vnd.databricks.v1+cell": {
     "cellMetadata": {
      "byteLimit": 2048000,
      "rowLimit": 10000
     },
     "inputWidgets": {},
     "nuid": "c3e990b8-c175-43ec-a420-cbda4767f4aa",
     "showTitle": false,
     "tableResultSettingsMap": {},
     "title": ""
    }
   },
   "outputs": [],
   "source": [
    "#  def classify(row):\n",
    "#     options = len(row)\n",
    "#     row = row.replace('',np.nan).dropna()\n",
    "#     unique_vals = len(row)\n",
    "#     if unique_vals < options:\n",
    "#         return f'Answered {unique_vals}'\n",
    "#     else:\n",
    "#         return 'Answered All {unique_vals}'\n",
    "    \n",
    "# sub_df = df[list(systems.values()) + ['caseid']]\n",
    "# sub_df['match_type'] = sub_df.apply(lambda row: classify(row), axis=1)\n",
    "# # display(sub_df)\n",
    "\n",
    "# percentages = sub_df['caseid'].value_counts().to_frame()\n",
    "# # display(percentages)\n",
    "# percentages['match_type'] = 'Answered ' + percentages.index.astype(str)\n",
    "# percentages = percentages.round(1).reset_index()\n",
    "# percentages.columns = ['match_type', 'percent']\n",
    "\n",
    "# for i,row in percentages.iterrows():\n",
    "#     print(row['match_type'], ': ', row['percent'],'%')\n",
    "\n",
    "# ## explore how much overlap there is "
   ]
  },
  {
   "cell_type": "code",
   "execution_count": 0,
   "metadata": {
    "application/vnd.databricks.v1+cell": {
     "cellMetadata": {
      "byteLimit": 2048000,
      "rowLimit": 10000
     },
     "inputWidgets": {},
     "nuid": "c6df5f81-9e4f-47d7-8041-ec59826c1b45",
     "showTitle": false,
     "tableResultSettingsMap": {},
     "title": ""
    }
   },
   "outputs": [],
   "source": [
    "systems = {\n",
    "    'No Excel Reason': 'no_excel_upload_reason'\n",
    "}\n",
    "\n",
    "title='Reason to Not Use Excel Upload'\n",
    "legend = ''\n",
    "note_y=-.05\n",
    "note_x=2\n",
    "fig = create_stacked_plots(df,systems,title,legend,height=400,width=600,note_y=note_y,note_x=note_x)\n",
    "fig\n",
    "\n",
    "## Dig into Other"
   ]
  },
  {
   "cell_type": "code",
   "execution_count": 0,
   "metadata": {
    "application/vnd.databricks.v1+cell": {
     "cellMetadata": {
      "byteLimit": 2048000,
      "rowLimit": 10000
     },
     "inputWidgets": {},
     "nuid": "b721f366-a104-4482-847f-d465eba297e9",
     "showTitle": false,
     "tableResultSettingsMap": {},
     "title": ""
    }
   },
   "outputs": [],
   "source": [
    "print_other('no_excel_upload_other_reason')"
   ]
  },
  {
   "cell_type": "code",
   "execution_count": 0,
   "metadata": {
    "application/vnd.databricks.v1+cell": {
     "cellMetadata": {
      "byteLimit": 2048000,
      "rowLimit": 10000
     },
     "inputWidgets": {},
     "nuid": "e4fe8a12-3601-4443-b120-ac3d2387a498",
     "showTitle": false,
     "tableResultSettingsMap": {},
     "title": ""
    }
   },
   "outputs": [],
   "source": [
    "systems = {\n",
    "    'Tables 1 & 2': 'table_1_to_2_data_origin',\n",
    "    'Tables 5-10': 'table_5_to_10_data_origin',\n",
    "    'Table 12': 'table_12_data_origin',\n",
    "    \n",
    "}\n",
    "\n",
    "title='Data Origins for Different Tables'\n",
    "legend = ''\n",
    "mode='percent'\n",
    "note_y=-.05\n",
    "note_x=2\n",
    "fig = create_stacked_plots(df,systems,title,legend,mode=mode,height=400,width=600,note_y=note_y,note_x=note_x)\n",
    "display(fig)\n",
    "\n",
    "sub_df = df[systems.values()]\n",
    "import numpy as np\n",
    "def classify(row):\n",
    "    row = row.replace('',np.nan).dropna()\n",
    "    unique_vals = len(row)\n",
    "    if unique_vals == 1:\n",
    "        return 'Answered 1'\n",
    "    elif unique_vals == 2:\n",
    "        return 'Answered 2'\n",
    "    else:\n",
    "        return 'Answered All 3'\n",
    "\n",
    "sub_df['match_type'] = sub_df.apply(lambda row: classify(row), axis=1)\n",
    "\n",
    "percentages = sub_df['match_type'].value_counts(normalize=True) * 100\n",
    "percentages = percentages.round(1).reset_index()\n",
    "percentages.columns = ['match_type', 'percent']\n",
    "\n",
    "for i,row in percentages.iterrows():\n",
    "    print(row['match_type'], ': ', row['percent'],'%')\n",
    "## Show overlap\n",
    "## % overlap"
   ]
  },
  {
   "cell_type": "code",
   "execution_count": 0,
   "metadata": {
    "application/vnd.databricks.v1+cell": {
     "cellMetadata": {
      "byteLimit": 2048000,
      "rowLimit": 10000
     },
     "inputWidgets": {},
     "nuid": "199d9627-f4fd-45c5-8901-132236d4ef54",
     "showTitle": false,
     "tableResultSettingsMap": {},
     "title": ""
    }
   },
   "outputs": [],
   "source": [
    "systems = {\n",
    "    'Manual Steps': 'data_validation_procedure'\n",
    "    \n",
    "}\n",
    "title='How to ensure Data Quality before submission'\n",
    "title = title.title()\n",
    "legend = ''\n",
    "note_y=-.05\n",
    "note_x=2\n",
    "fig = create_stacked_plots(df,systems,title,legend,height=400,width=600,note_y=note_y,note_x=note_x)\n",
    "fig"
   ]
  },
  {
   "cell_type": "code",
   "execution_count": 0,
   "metadata": {
    "application/vnd.databricks.v1+cell": {
     "cellMetadata": {
      "byteLimit": 2048000,
      "rowLimit": 10000
     },
     "inputWidgets": {},
     "nuid": "3c72d316-ecd3-4032-b82d-3e7232991e1c",
     "showTitle": false,
     "tableResultSettingsMap": {},
     "title": ""
    }
   },
   "outputs": [],
   "source": [
    "systems = {\n",
    "    'Reason': 'reason_for_no_api_use'\n",
    "    \n",
    "}\n",
    "\n",
    "title='Reasons for not implementing web services api'\n",
    "title = title.title()\n",
    "legend = ''\n",
    "note_y=-.05\n",
    "note_x=2\n",
    "fig = create_stacked_plots(df,systems,title,legend,height=400,width=600,note_y=note_y,note_x=note_x)\n",
    "fig\n",
    "\n",
    "## Dig into other"
   ]
  },
  {
   "cell_type": "code",
   "execution_count": 0,
   "metadata": {
    "application/vnd.databricks.v1+cell": {
     "cellMetadata": {
      "byteLimit": 2048000,
      "rowLimit": 10000
     },
     "inputWidgets": {},
     "nuid": "5309fe87-9589-485b-9ed9-4a5018d60bac",
     "showTitle": false,
     "tableResultSettingsMap": {},
     "title": ""
    }
   },
   "outputs": [],
   "source": [
    "print_other('reason_for_no_api_use')"
   ]
  },
  {
   "cell_type": "code",
   "execution_count": 0,
   "metadata": {
    "application/vnd.databricks.v1+cell": {
     "cellMetadata": {
      "byteLimit": 2048000,
      "rowLimit": 10000
     },
     "inputWidgets": {},
     "nuid": "07e2f812-1d37-410c-8414-1307b6728e8d",
     "showTitle": false,
     "tableResultSettingsMap": {},
     "title": ""
    }
   },
   "outputs": [],
   "source": [
    "col = 'reason_for_no_api_use'\n",
    "title='Reasons for not implementing web services api'\n",
    "# xtitle = 'Reasons'\n",
    "# ytitle=None\n",
    "# mode='count'\n",
    "# bar_chart(df, col, title, xtitle, ytitle, mode)\n",
    "\n",
    "# col = 'resources_to_implement_api'\n",
    "# title='Resources needed to facilitate broader API access'\n",
    "xtitle = ''\n",
    "ytitle=None\n",
    "mode='percent'\n",
    "bar_chart(df, col, title, xtitle=xtitle, mode=mode)"
   ]
  },
  {
   "cell_type": "code",
   "execution_count": 0,
   "metadata": {
    "application/vnd.databricks.v1+cell": {
     "cellMetadata": {
      "byteLimit": 2048000,
      "rowLimit": 10000
     },
     "inputWidgets": {},
     "nuid": "78af8d44-00ad-4059-b0d6-c51245d1d628",
     "showTitle": false,
     "tableResultSettingsMap": {},
     "title": ""
    }
   },
   "outputs": [],
   "source": [
    "print_other('resources_to_implement_api')"
   ]
  },
  {
   "cell_type": "code",
   "execution_count": 0,
   "metadata": {
    "application/vnd.databricks.v1+cell": {
     "cellMetadata": {
      "byteLimit": 2048000,
      "rowLimit": 10000
     },
     "inputWidgets": {},
     "nuid": "031ac09b-0ded-455a-b340-57200f335adb",
     "showTitle": false,
     "tableResultSettingsMap": {},
     "title": ""
    }
   },
   "outputs": [],
   "source": [
    "col = 'reporting_clarity'\n",
    "title='Reporting Requirements clarity'\n",
    "xtitle=''\n",
    "ytitle=''\n",
    "mode='percent'\n",
    "bar_chart(df, col, title, xtitle, mode=mode, height = 500)"
   ]
  },
  {
   "cell_type": "code",
   "execution_count": 0,
   "metadata": {
    "application/vnd.databricks.v1+cell": {
     "cellMetadata": {
      "byteLimit": 2048000,
      "rowLimit": 10000
     },
     "inputWidgets": {},
     "nuid": "d9e8eeea-a78b-40bd-a2b9-9f9a7e2ad4c8",
     "showTitle": false,
     "tableResultSettingsMap": {},
     "title": ""
    }
   },
   "outputs": [],
   "source": [
    "print_other('reason_for_no_api_use_other')"
   ]
  },
  {
   "cell_type": "code",
   "execution_count": 0,
   "metadata": {
    "application/vnd.databricks.v1+cell": {
     "cellMetadata": {
      "byteLimit": 2048000,
      "rowLimit": 10000
     },
     "inputWidgets": {},
     "nuid": "55da3fa8-ed06-4cc9-ba7d-c89f38abdb94",
     "showTitle": false,
     "tableResultSettingsMap": {},
     "title": ""
    }
   },
   "outputs": [],
   "source": [
    "col = 'prior_api_considerations'\n",
    "title = f\"Current or prior interest in API implementation\"\n",
    "xtitle=''\n",
    "ytitle=None\n",
    "change_values_dict = {'Lack of system integration — data extraction from multiple sources':'Too many sources',\n",
    "        'Differences in data formats — conversion and reconciliation': 'Different data formats',\n",
    "        'Budgetary restrictions': 'Budget',\n",
    "        'Manual deduplication of entries before submission': 'Manual deduplication',\n",
    "        'Data quality checks requiring human review': 'Manual data quality checks',\n",
    "        'No need for automation, system runs fine as is\\xa0': 'No need',\n",
    "        'Too difficult to implement': 'Too difficult'}\n",
    "mode='percent'\n",
    "display(df[col])\n",
    "bar_chart(df, col, title, xtitle=xtitle, mode=mode, change_values_dict=change_values_dict)"
   ]
  },
  {
   "cell_type": "code",
   "execution_count": 0,
   "metadata": {
    "application/vnd.databricks.v1+cell": {
     "cellMetadata": {
      "byteLimit": 2048000,
      "rowLimit": 10000
     },
     "inputWidgets": {},
     "nuid": "5e33df68-e233-4501-958f-1a57cd439031",
     "showTitle": false,
     "tableResultSettingsMap": {},
     "title": ""
    }
   },
   "outputs": [],
   "source": [
    "fields_df = pd.read_excel(survey_path, sheet_name='survey', engine='openpyxl')\n",
    "fields_df"
   ]
  },
  {
   "cell_type": "code",
   "execution_count": 0,
   "metadata": {
    "application/vnd.databricks.v1+cell": {
     "cellMetadata": {
      "byteLimit": 2048000,
      "rowLimit": 10000
     },
     "inputWidgets": {},
     "nuid": "75314074-b29c-4f1b-9558-347ec37914a8",
     "showTitle": false,
     "tableResultSettingsMap": {},
     "title": ""
    }
   },
   "outputs": [],
   "source": [
    "roi = fields_df[fields_df['type'].str.contains('select',na=False)]\n",
    "roi.head()\n"
   ]
  },
  {
   "cell_type": "code",
   "execution_count": 0,
   "metadata": {
    "application/vnd.databricks.v1+cell": {
     "cellMetadata": {
      "byteLimit": 2048000,
      "rowLimit": 10000
     },
     "inputWidgets": {},
     "nuid": "86238fa8-b269-47a0-9533-aa5ddb235051",
     "showTitle": false,
     "tableResultSettingsMap": {},
     "title": ""
    }
   },
   "outputs": [],
   "source": [
    "for name in roi['name'].to_list():\n",
    "    if name in df.columns:\n",
    "        title_name = name.replace('_', ' ').capitalize()\n",
    "        systems = {\n",
    "            title_name: name,\n",
    "        }\n",
    "        sub_df = df[name]\n",
    "        title=title_name\n",
    "\n",
    "        legend = 'Legend'\n",
    "        try:\n",
    "            fig = create_stacked_plots(sub_df,systems,title,legend,barwidth=.1, height=400,width=600)\n",
    "            fig\n",
    "        except: \n",
    "            pass"
   ]
  },
  {
   "cell_type": "code",
   "execution_count": 0,
   "metadata": {
    "application/vnd.databricks.v1+cell": {
     "cellMetadata": {
      "byteLimit": 2048000,
      "rowLimit": 10000
     },
     "inputWidgets": {},
     "nuid": "5718f797-213b-4d33-8fc7-e106e1267303",
     "showTitle": false,
     "tableResultSettingsMap": {},
     "title": ""
    }
   },
   "outputs": [],
   "source": [
    "names = list(set(df.columns.to_list() + roi['name'].to_list()))\n",
    "names = [name for name in names if name in roi['name'].to_list() ]\n",
    "names"
   ]
  },
  {
   "cell_type": "code",
   "execution_count": 0,
   "metadata": {
    "application/vnd.databricks.v1+cell": {
     "cellMetadata": {
      "byteLimit": 2048000,
      "rowLimit": 10000
     },
     "inputWidgets": {},
     "nuid": "c5fdcf0c-9358-4283-a75c-957f5a2c56c7",
     "showTitle": false,
     "tableResultSettingsMap": {},
     "title": ""
    }
   },
   "outputs": [],
   "source": [
    "for name in names:\n",
    "    title_name = name.replace('_', ' ').capitalize()\n",
    "    systems = {\n",
    "        title_name: name\n",
    "    }\n",
    "\n",
    "    title= title_name\n",
    "    legend = ''\n",
    "    note_x = 1.3\n",
    "    note_y = -.28\n",
    "    fig = create_stacked_plots(df,systems,title,legend,height=400,width=600,note_x=note_x,note_y=note_y)\n",
    "    display(fig)"
   ]
  },
  {
   "cell_type": "code",
   "execution_count": 0,
   "metadata": {
    "application/vnd.databricks.v1+cell": {
     "cellMetadata": {
      "byteLimit": 2048000,
      "rowLimit": 10000
     },
     "inputWidgets": {},
     "nuid": "e694f72c-dff3-4cee-9a88-a2d84c2bd49a",
     "showTitle": false,
     "tableResultSettingsMap": {},
     "title": ""
    }
   },
   "outputs": [],
   "source": [
    "# for elem in df[df['regulatory_improvement_suggestions']!='']['regulatory_improvement_suggestions']:\n",
    "#     print(elem)\n",
    "\n",
    "expl_df = display(df[df['regulatory_improvement_suggestions']!='']['regulatory_improvement_suggestions'])\n",
    "\n",
    "expl.to_excel()"
   ]
  },
  {
   "cell_type": "code",
   "execution_count": 0,
   "metadata": {
    "application/vnd.databricks.v1+cell": {
     "cellMetadata": {
      "byteLimit": 2048000,
      "rowLimit": 10000
     },
     "inputWidgets": {},
     "nuid": "11fd73be-5862-48ab-93d4-8647fd49bc99",
     "showTitle": false,
     "tableResultSettingsMap": {},
     "title": ""
    }
   },
   "outputs": [],
   "source": []
  }
 ],
 "metadata": {
  "application/vnd.databricks.v1+notebook": {
   "computePreferences": null,
   "dashboards": [],
   "environmentMetadata": {
    "base_environment": "",
    "environment_version": "2"
   },
   "inputWidgetPreferences": null,
   "language": "python",
   "notebookMetadata": {
    "pythonIndentUnit": 4
   },
   "notebookName": "MA Survey Analysis",
   "widgets": {}
  },
  "language_info": {
   "name": "python"
  }
 },
 "nbformat": 4,
 "nbformat_minor": 0
}
