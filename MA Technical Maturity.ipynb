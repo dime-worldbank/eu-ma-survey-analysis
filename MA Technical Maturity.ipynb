{
 "cells": [
  {
   "cell_type": "code",
   "execution_count": 0,
   "metadata": {
    "application/vnd.databricks.v1+cell": {
     "cellMetadata": {
      "byteLimit": 2048000,
      "rowLimit": 10000
     },
     "inputWidgets": {},
     "nuid": "b55e6fd4-08b5-4209-a626-6be7f2e5252d",
     "showTitle": false,
     "tableResultSettingsMap": {},
     "title": ""
    }
   },
   "outputs": [],
   "source": [
    "%pip install openpyxl\n",
    "\n",
    "import pandas as pd\n",
    "import numpy as np"
   ]
  },
  {
   "cell_type": "markdown",
   "metadata": {
    "application/vnd.databricks.v1+cell": {
     "cellMetadata": {
      "byteLimit": 2048000,
      "rowLimit": 10000
     },
     "inputWidgets": {},
     "nuid": "cdb16434-7d06-4c82-9593-6077b1976404",
     "showTitle": false,
     "tableResultSettingsMap": {},
     "title": ""
    }
   },
   "source": [
    "## Bring in Cleaned Data"
   ]
  },
  {
   "cell_type": "code",
   "execution_count": 0,
   "metadata": {
    "application/vnd.databricks.v1+cell": {
     "cellMetadata": {
      "byteLimit": 2048000,
      "rowLimit": 10000
     },
     "inputWidgets": {},
     "nuid": "75ab15ab-b94f-431a-94b7-ed8cb0355526",
     "showTitle": false,
     "tableResultSettingsMap": {},
     "title": ""
    }
   },
   "outputs": [],
   "source": [
    "catalog = 'prd_mega'\n",
    "schema = 'sdgreg25'\n",
    "clean_name = 'ma_survey_clean'\n",
    "labels_name = 'ma_survey_labels'\n",
    "variables_name = 'ma_survey_variables'\n",
    "\n",
    "# responses\n",
    "rdf = spark.read.table(f'{catalog}.{schema}.{clean_name}')\n",
    "\n",
    "# labels\n",
    "ldf = spark.read.table(f'{catalog}.{schema}.{labels_name}')\n",
    "\n",
    "# variables\n",
    "vdf = spark.read.table(f'{catalog}.{schema}.{variables_name}')\n",
    "\n"
   ]
  },
  {
   "cell_type": "code",
   "execution_count": 0,
   "metadata": {
    "application/vnd.databricks.v1+cell": {
     "cellMetadata": {
      "byteLimit": 2048000,
      "rowLimit": 10000
     },
     "inputWidgets": {},
     "nuid": "6fa06017-3e53-4007-9212-d481f1359cf2",
     "showTitle": false,
     "tableResultSettingsMap": {},
     "title": ""
    }
   },
   "outputs": [],
   "source": [
    "# display(rdf)\n",
    "# display(ldf)\n",
    "# display(vdf.toPandas()['standalone_mis_name'])"
   ]
  },
  {
   "cell_type": "markdown",
   "metadata": {
    "application/vnd.databricks.v1+cell": {
     "cellMetadata": {
      "byteLimit": 2048000,
      "rowLimit": 10000
     },
     "inputWidgets": {},
     "nuid": "2de031ed-daa3-4d9b-ac3d-da063977d576",
     "showTitle": false,
     "tableResultSettingsMap": {},
     "title": ""
    }
   },
   "source": [
    "## Scoring Funcs"
   ]
  },
  {
   "cell_type": "code",
   "execution_count": 0,
   "metadata": {
    "application/vnd.databricks.v1+cell": {
     "cellMetadata": {
      "byteLimit": 2048000,
      "rowLimit": 10000
     },
     "inputWidgets": {},
     "nuid": "0cf21e41-753f-4218-8f16-7b3dc6148a8c",
     "showTitle": false,
     "tableResultSettingsMap": {},
     "title": ""
    }
   },
   "outputs": [],
   "source": [
    "def label_quartiles(df, score_col = 'total_score'):\n",
    "    # Calculate quartiles\n",
    "    q1, q2, q3 = df[score_col].quantile([.25, .50, .75])\n",
    "    print('q1: ',q1)\n",
    "    print('q2: ',q2)\n",
    "    print('q3: ',q3)\n",
    "\n",
    "    # Define function to label quartile\n",
    "    def label_quartile(score):\n",
    "        if score <= q1:\n",
    "            return \"Q1 (Lowest)\"\n",
    "        elif score <= q2:\n",
    "            return \"Q2\"\n",
    "        elif score <= q3:\n",
    "            return \"Q3\"\n",
    "        else:\n",
    "            return \"Q4 (Highest)\"\n",
    "\n",
    "    # Apply quartile label\n",
    "    df[\"quartile\"] = df[score_col].apply(label_quartile)\n",
    "\n",
    "    return df\n"
   ]
  },
  {
   "cell_type": "code",
   "execution_count": 0,
   "metadata": {
    "application/vnd.databricks.v1+cell": {
     "cellMetadata": {
      "byteLimit": 2048000,
      "rowLimit": 10000
     },
     "inputWidgets": {},
     "nuid": "982ff877-40ca-46f4-9e76-02267c0fb1e6",
     "showTitle": false,
     "tableResultSettingsMap": {},
     "title": ""
    }
   },
   "outputs": [],
   "source": [
    "def score(row, questions, dicts:list =[]):\n",
    "    caseid = row['caseid']\n",
    "    answer_row = rdf.toPandas()[rdf.toPandas()['caseid'] == caseid].squeeze()\n",
    "    \n",
    "    score = 0\n",
    "    total_questions = 0\n",
    "    for q in questions:\n",
    "        all_answers = answer_row[q]\n",
    "\n",
    "        # questions for this section needs to fit into the answer_scores, text_impediments, or text_boosts\n",
    "        q = q.replace('mis_financial_','').replace('mis_me_','').replace('mis_', '').replace('e_cohesion_', '')\n",
    "        print(q)\n",
    "\n",
    "        # weed out the questions people did not answer\n",
    "        if not pd.isna(all_answers) and not all_answers == '':\n",
    "\n",
    "            # make sure this is a question we are scoring\n",
    "            for dic in dicts:\n",
    "                if q in dic.keys():\n",
    "                    answers = all_answers.split(' ')\n",
    "                    for answer in answers:\n",
    "                        total_questions += 1\n",
    "                        if isinstance(dic[q],dict):\n",
    "                            to_add = dic[q][answer]\n",
    "                        else:\n",
    "                            to_add = dic[q]\n",
    "                        score += to_add\n",
    "            \n",
    "    return [score, total_questions]"
   ]
  },
  {
   "cell_type": "code",
   "execution_count": 0,
   "metadata": {
    "application/vnd.databricks.v1+cell": {
     "cellMetadata": {
      "byteLimit": 2048000,
      "rowLimit": 10000
     },
     "inputWidgets": {},
     "nuid": "6e8b8828-7c1c-46cc-913b-c6a272610b4d",
     "showTitle": false,
     "tableResultSettingsMap": {},
     "title": ""
    }
   },
   "outputs": [],
   "source": [
    "def score_choices(row, col_ans_dict,score=0):\n",
    "    for col in col_ans_dict.keys():\n",
    "        answers = row[col]\n",
    "        if not pd.isna(answers) and not answers == '':\n",
    "            answers = answers.split(' ')\n",
    "            for answer in answers:\n",
    "                if not pd.isna(answer) and not answer == '':\n",
    "                    score += col_ans_dict[col][answer]\n",
    "    \n",
    "    return score\n",
    "\n",
    "def count_questions_answered(row, col_ans_dict,score=0):\n",
    "    qas = 0\n",
    "    for col in col_ans_dict.keys():\n",
    "        answers = row[col]\n",
    "        if not pd.isna(answers) and not answers == '':\n",
    "            qas += 1\n",
    "    \n",
    "    return qas\n",
    "\n",
    "def score_text(row,text_ans_dict,score=0):\n",
    "    for col in text_ans_dict.keys():\n",
    "        answer = row[col]\n",
    "        if not pd.isna(answer) and not answer == '':\n",
    "            score += text_ans_dict[col]\n",
    "\n",
    "    return score"
   ]
  },
  {
   "cell_type": "code",
   "execution_count": 0,
   "metadata": {
    "application/vnd.databricks.v1+cell": {
     "cellMetadata": {
      "byteLimit": 2048000,
      "rowLimit": 10000
     },
     "inputWidgets": {},
     "nuid": "ce1c898a-f27f-447f-9304-418ae59992ad",
     "showTitle": false,
     "tableResultSettingsMap": {},
     "title": ""
    }
   },
   "outputs": [],
   "source": [
    "import pandas as pd\n",
    "import plotly.express as px\n",
    "import numpy as np\n",
    "\n",
    "def plot_df(df, num=10):\n",
    "    # -----------------------------\n",
    "    # Chart 1: Horizontal Bar Chart of MAs by Score\n",
    "    # -----------------------------\n",
    "    df_sorted = df.sort_values(\"total_score\", ascending=False)[:num]\n",
    "    fig = px.bar(\n",
    "        df_sorted,\n",
    "        x=\"total_score\",\n",
    "        y=\"ma_name\",\n",
    "        orientation='h',\n",
    "        title=\"Total Score by Managing Authority\",\n",
    "        category_orders={\"ma_name\": df_sorted.sort_values(\"total_score\")['ma_name'].tolist()}\n",
    "    )\n",
    "    fig.update_layout(xaxis_title=\"Total Score\", yaxis_title=\"Managing Authority\")\n",
    "    fig.show()\n",
    "\n",
    "    # -----------------------------\n",
    "    # Chart 2: Top 10 MAs by Score\n",
    "    # -----------------------------\n",
    "    display(df_sorted[['ma_name','ms_name','total_score']])\n",
    "\n",
    "    # -----------------------------\n",
    "    # Chart 3: Histogram with Percentile Lines\n",
    "    # -----------------------------\n",
    "    percentiles = np.percentile(df[\"total_score\"], [25, 50, 75])\n",
    "    fig = px.histogram(df, x=\"total_score\", nbins=10, title=\"Distribution of Scores with Percentiles\")\n",
    "    for p, label in zip(percentiles, [\"25th\", \"50th\", \"75th\"]):\n",
    "        fig.add_vline(x=p, line_dash=\"dash\", line_color=\"red\", annotation_text=f\"{label}: {p:.1f}\", annotation_position=\"top right\")\n",
    "    fig.update_layout(xaxis_title=\"Total Score\", yaxis_title=\"Frequency\")\n",
    "    fig.show()\n",
    "\n",
    "    # -----------------------------\n",
    "    # Chart 4: Average Score by Region (Member State)\n",
    "    # -----------------------------\n",
    "    score_by_country = df.groupby(\"ms_name\", as_index=False)[\"total_score\"].mean()\n",
    "    fig = px.choropleth(\n",
    "        score_by_country,\n",
    "        locations=\"ms_name\",\n",
    "        locationmode=\"country names\",\n",
    "        color=\"total_score\",\n",
    "        color_continuous_scale=\"Viridis\",\n",
    "        title=\"Average Total Score by Country\"\n",
    "    )\n",
    "    fig.show()\n",
    "\n",
    "    # -----------------------------\n",
    "    # Chart 5: Count MAs per country\n",
    "    # -----------------------------\n",
    "    ma_counts = df.groupby(\"ms_name\")[\"ma_name\"].nunique().reset_index()\n",
    "    ma_counts.columns = [\"Member State\", \"Number of MAs\"]\n",
    "    ma_counts = ma_counts.sort_values(\"Number of MAs\", ascending=False)\n",
    "    fig = px.bar(\n",
    "        ma_counts,\n",
    "        x=\"Member State\",\n",
    "        y=\"Number of MAs\",\n",
    "        title=\"Number of Managing Authorities per Member State\",\n",
    "        text=\"Number of MAs\"\n",
    "    )\n",
    "    fig.update_traces(textposition=\"outside\")\n",
    "    fig.update_layout(yaxis_title=\"Number of MAs\", xaxis_title=\"Member State\")\n",
    "    fig.show()\n",
    "\n",
    "    # -----------------------------\n",
    "    # Chart 6: Country vs Quartile Count (Grouped Stacked Bar)\n",
    "    # -----------------------------\n",
    "    df = label_quartiles(df)\n",
    "    counts = df.groupby([\"ms_name\", \"quartile\"]).size().reset_index(name=\"count\")\n",
    "\n",
    "    fig = px.bar(\n",
    "        counts,\n",
    "        x=\"ms_name\",\n",
    "        y=\"count\",\n",
    "        color=\"quartile\",\n",
    "        title=\"Number of Managing Authorities per Country by Quartile\",\n",
    "        barmode=\"stack\"\n",
    "    )\n",
    "    fig.update_layout(xaxis_title=\"Member State\", yaxis_title=\"Number of MAs\")\n",
    "    fig.show()\n",
    "\n",
    "    # -----------------------------\n",
    "    # Chart 7: Managing Authorities by Score and Quartile (Sorted Bar Chart)\n",
    "    # -----------------------------\n",
    "    df_sorted = df.sort_values(\"total_score\", ascending=False)\n",
    "\n",
    "    fig = px.bar(\n",
    "        df_sorted,\n",
    "        x=\"total_score\",\n",
    "        y=\"ma_name\",\n",
    "        color=\"quartile\",\n",
    "        orientation=\"h\",\n",
    "        title=\"Managing Authorities by Score and Quartile\",\n",
    "        category_orders={\"ma_name\": df_sorted[\"ma_name\"].tolist()}\n",
    "    )\n",
    "    fig.update_layout(xaxis_title=\"Total Score\", yaxis_title=\"Managing Authority\")\n",
    "    fig.show()\n",
    "\n",
    "    # -----------------------------\n",
    "    # Chart 8: Strip Plot for Visual Density by Country\n",
    "    # -----------------------------\n",
    "    fig = px.strip(\n",
    "        df,\n",
    "        x=\"ms_name\",\n",
    "        y=\"total_score\",\n",
    "        color=\"quartile\",\n",
    "        title=\"Distribution of MA Scores by Country and Quartile\",\n",
    "        hover_data=[\"ma_name\"]\n",
    "    )\n",
    "    fig.update_layout(yaxis_title=\"Total Score\", xaxis_title=\"Member State\")\n",
    "    fig.show()\n",
    "\n",
    "    "
   ]
  },
  {
   "cell_type": "markdown",
   "metadata": {
    "application/vnd.databricks.v1+cell": {
     "cellMetadata": {
      "byteLimit": 2048000,
      "rowLimit": 10000
     },
     "inputWidgets": {},
     "nuid": "3966f060-c94c-454b-ba50-3d9af293ba92",
     "showTitle": false,
     "tableResultSettingsMap": {},
     "title": ""
    }
   },
   "source": [
    "## Technological Foresight and Engagement\n"
   ]
  },
  {
   "cell_type": "code",
   "execution_count": 0,
   "metadata": {
    "application/vnd.databricks.v1+cell": {
     "cellMetadata": {
      "byteLimit": 2048000,
      "rowLimit": 10000
     },
     "inputWidgets": {},
     "nuid": "4c1638df-e8b1-4233-8058-c6a12228e3e5",
     "showTitle": false,
     "tableResultSettingsMap": {},
     "title": ""
    }
   },
   "outputs": [],
   "source": [
    "clean_scoring = {\n",
    "    'prior_api_considerations':{\n",
    "        'financial_information':1, \n",
    "        'output_and_result_indicators':1, \n",
    "        'financial_instrument_information':1, \n",
    "        'no':0\n",
    "        },\n",
    "    'reason_for_no_api_use':{\n",
    "        'unaware':-1, \n",
    "        'under_development':1, # proactive measure in favor of\n",
    "        'lack_of_information':-1,\n",
    "        'no_integration_developed':-1, \n",
    "        'managed_by_higher_level':0, # not in their court\n",
    "        'lack_of_systems_integration':-1, \n",
    "        'diffs_in_data_formats':-1, \n",
    "        'budgetary_restrictions':-1, \n",
    "        'manual_deduplication':-1, \n",
    "        'data_quality_checks':-1, \n",
    "        'likes_as_is':-1, \n",
    "        'too_difficult':-1, \n",
    "        'other':-1\n",
    "        },\n",
    "    'resources_to_implement_api':{\n",
    "        'external_buy_in':1, \n",
    "        'no_interest':0, \n",
    "        'field_compatibility':1, \n",
    "        'no_support_needed':0, \n",
    "        'unaware':0, \n",
    "        'budget':1, \n",
    "        'training':1, \n",
    "        'regulatory_changes':1, \n",
    "        'technical_assistance':1, \n",
    "        'improved_documentation':1, \n",
    "        'peer_experience':1, \n",
    "        'other':1\n",
    "        },\n",
    "    'reporting_clarity':{\n",
    "        'yes':2, \n",
    "        'somewhat':1, \n",
    "        'no':0, \n",
    "        'does_not_know':0\n",
    "        },\n",
    "    'arachne_use':{\n",
    "        'yes':1, \n",
    "        'no':0, \n",
    "        'unsure':0\n",
    "        },  \n",
    "   }\n",
    "\n",
    "clean_texts = {\n",
    "    'regional_national_integration_wants':1, \n",
    "    'regulatory_improvement_suggestions':1, \n",
    "    'missed_automation_opportunities':1, \n",
    "    'reporting_integration_challenges':1\n",
    "    }"
   ]
  },
  {
   "cell_type": "code",
   "execution_count": 0,
   "metadata": {
    "application/vnd.databricks.v1+cell": {
     "cellMetadata": {
      "byteLimit": 2048000,
      "rowLimit": 10000
     },
     "inputWidgets": {},
     "nuid": "1df69482-04f1-4cf4-a992-3ced60a3cec6",
     "showTitle": false,
     "tableResultSettingsMap": {},
     "title": ""
    }
   },
   "outputs": [],
   "source": [
    "pd_rdf = rdf.toPandas()\n",
    "mas_clean = pd_rdf.fillna('').loc[:,['ma_name','ms_name','caseid']]\n",
    "\n",
    "mas_clean['clean_score'] = pd_rdf.apply(lambda row: score_choices(row,clean_scoring), axis=1)\n",
    "mas_clean['clean_text_score'] = pd_rdf.apply(lambda row: score_text(row,clean_texts), axis=1)\n",
    "mas_clean['total_score'] = mas_clean['clean_text_score'] + mas_clean['clean_score']\n",
    "\n",
    "plot_df(mas_clean)"
   ]
  },
  {
   "cell_type": "markdown",
   "metadata": {
    "application/vnd.databricks.v1+cell": {
     "cellMetadata": {
      "byteLimit": 2048000,
      "rowLimit": 10000
     },
     "inputWidgets": {},
     "nuid": "2adffbb3-7f73-4eae-9e40-3461ad1847cb",
     "showTitle": false,
     "tableResultSettingsMap": {},
     "title": ""
    }
   },
   "source": [
    "## Technology Sophistication of Managing Authorities"
   ]
  },
  {
   "cell_type": "code",
   "execution_count": 0,
   "metadata": {
    "application/vnd.databricks.v1+cell": {
     "cellMetadata": {
      "byteLimit": 2048000,
      "rowLimit": 10000
     },
     "inputWidgets": {},
     "nuid": "cbba8e05-980f-4949-a3f5-336b0fac1c93",
     "showTitle": false,
     "tableResultSettingsMap": {},
     "title": ""
    }
   },
   "outputs": [],
   "source": [
    "tsma_systems = {\n",
    "        'single_or_separate_system':{\n",
    "        'results_integrated_e_cohesion':1, \n",
    "        'financial_integrated_e_cohesion':1, \n",
    "        'one_mis_separate_e_cohesion':1, \n",
    "        'all_integrated': 5, \n",
    "        'all_separate':0\n",
    "        },\n",
    "    }\n",
    "\n",
    "tsma_scores = {\n",
    "\n",
    "    'system_integration_level':{\n",
    "        'fully':3, \n",
    "        'partially':2, \n",
    "        'barely':1, \n",
    "        'not_at_all':0, \n",
    "        'na':0\n",
    "        },\n",
    "    }\n",
    "\n",
    "tsma_boiler_scores = {\n",
    "    'meeting_needs': {'fully':2,\n",
    "        'partially':1,\n",
    "        'minimally':0,\n",
    "    },\n",
    "    'updates':{\n",
    "        'yes_maintenance':2,\n",
    "        'yes_maintenance_and_improvements':3,\n",
    "        'no_but_adds_regulation':1,\n",
    "        'not_at_all':0\n",
    "    },\n",
    "    'api_data_transmission':{\n",
    "        'yes':2,\n",
    "        'no':0,\n",
    "        'no_but_pursuing':1,\n",
    "        'does_not_know':0,\n",
    "    },\n",
    "    'barriers_to_api_implementation':{\n",
    "        'lack_of_technical_capacity':-1,\n",
    "        'budget_constraints':-1,\n",
    "        'regulatory_restrictions':-1,\n",
    "        'legacy_issues':-1,\n",
    "        'security_concerns':-1,\n",
    "        'satisfied':-1,\n",
    "        'other':-1,\n",
    "    },\n",
    " }\n",
    "\n",
    "tsma_boiler_texts = {\n",
    "            'explain_partially':0,\n",
    "            'other_api_barriers':1\n",
    "            }\n",
    "\n",
    "tsma_texts = {\n",
    "    'system_integration_level_partial_barely':0\n",
    "    }\n",
    "\n",
    "def apply_hdrs(boiler_dict,parent_dict):\n",
    "    tsma_boiler_headers = ['mis_','mis_financial_','mis_me_','e_cohesion_']\n",
    "    for header in tsma_boiler_headers:\n",
    "        for q in boiler_dict.keys():\n",
    "            parent_dict[header+q] = boiler_dict[q]\n",
    "    \n",
    "    return parent_dict\n",
    "\n",
    "tsma_scores = apply_hdrs(tsma_boiler_scores,tsma_scores)\n",
    "tsma_texts = apply_hdrs(tsma_boiler_texts,tsma_texts)"
   ]
  },
  {
   "cell_type": "code",
   "execution_count": 0,
   "metadata": {
    "application/vnd.databricks.v1+cell": {
     "cellMetadata": {
      "byteLimit": 2048000,
      "rowLimit": 10000
     },
     "inputWidgets": {},
     "nuid": "4e8ecf57-92a3-4f31-b3fa-2b515d76d95c",
     "showTitle": false,
     "tableResultSettingsMap": {},
     "title": ""
    }
   },
   "outputs": [],
   "source": [
    "pd_rdf = rdf.toPandas()\n",
    "mas_tsma = pd_rdf.fillna('').loc[:,['ma_name','ms_name','caseid']]\n",
    "\n",
    "mas_tsma['tsma_system_score'] = pd_rdf.apply(lambda row: score_choices(row,tsma_systems), axis=1)\n",
    "mas_tsma['tsma_score'] = pd_rdf.apply(lambda row: score_choices(row,tsma_scores), axis=1)\n",
    "mas_tsma['tsma_text_score'] = pd_rdf.apply(lambda row: score_text(row,tsma_texts), axis=1)\n",
    "mas_tsma['tsma_count'] = pd_rdf.apply(lambda row: count_questions_answered(row,tsma_scores), axis=1)\n",
    "\n",
    "# important to average by number of questions answered, not total score\n",
    "mas_tsma['total_score'] = mas_tsma['tsma_system_score'] + (mas_tsma['tsma_text_score'] + mas_tsma['tsma_score'])/mas_tsma['tsma_count']\n",
    "\n",
    "plot_df(mas_tsma)"
   ]
  },
  {
   "cell_type": "markdown",
   "metadata": {
    "application/vnd.databricks.v1+cell": {
     "cellMetadata": {
      "byteLimit": 2048000,
      "rowLimit": 10000
     },
     "inputWidgets": {},
     "nuid": "e0a1c459-1097-4995-8dfb-48d4168c2e0e",
     "showTitle": false,
     "tableResultSettingsMap": {},
     "title": ""
    }
   },
   "source": [
    "## MA Data Processing Capability"
   ]
  },
  {
   "cell_type": "code",
   "execution_count": 0,
   "metadata": {
    "application/vnd.databricks.v1+cell": {
     "cellMetadata": {
      "byteLimit": 2048000,
      "rowLimit": 10000
     },
     "inputWidgets": {},
     "nuid": "60525089-339e-455d-aece-a36c31118302",
     "showTitle": false,
     "tableResultSettingsMap": {},
     "title": ""
    }
   },
   "outputs": [],
   "source": [
    "mdpc_scores = {\n",
    "    'sfc_submission_types':{\n",
    "        'manual':0, \n",
    "        'api':2, \n",
    "        'excel':1, \n",
    "        'other':0,\n",
    "        },\n",
    "    'no_excel_upload':{\n",
    "        'api':1,\n",
    "        'mis_does_not_generate':0, \n",
    "        'unaware':0, \n",
    "        'error':0,\n",
    "        },\n",
    "    'data_validation_procedure':{'training':0, \n",
    "        'audits':0, \n",
    "        'double_entry':0, \n",
    "        'manual_check':0, \n",
    "        'other':0,\n",
    "        },\n",
    "    'operations_publishing_pipeline':{\n",
    "        'fully_automatic':3, \n",
    "        'mostly_automatic':2, \n",
    "        'mostly_manual':1, \n",
    "        'fully_manual':0,\n",
    "        },\n",
    "     \n",
    "    'operations_publishing_manual_steps':{\n",
    "        'manual_creation':0, \n",
    "        'it_system_download':0, \n",
    "        'manual_publishing':0, \n",
    "        'api_planned':0, \n",
    "        'external_department_involved':0, \n",
    "        'manual_check':0, \n",
    "        'publication_not_working':0,\n",
    "        },\n",
    "    \n",
    "    'arachne_submission':{\n",
    "        'fully_automatic':3, \n",
    "        'mostly_automatic':2, \n",
    "        'mostly_manual':1, \n",
    "        'fully_manual':0,\n",
    "        }\n",
    "}\n",
    "\n",
    "mdpc_texts = {'manual_steps_explanation':0}"
   ]
  },
  {
   "cell_type": "code",
   "execution_count": 0,
   "metadata": {
    "application/vnd.databricks.v1+cell": {
     "cellMetadata": {
      "byteLimit": 2048000,
      "rowLimit": 10000
     },
     "inputWidgets": {},
     "nuid": "aa4fb5b4-8f8b-4a23-a8aa-04e7b59fb3e8",
     "showTitle": false,
     "tableResultSettingsMap": {},
     "title": ""
    }
   },
   "outputs": [],
   "source": [
    "pd_rdf = rdf.toPandas()\n",
    "mas_mdpc = pd_rdf.fillna('').loc[:,['ma_name','ms_name','caseid']]\n",
    "\n",
    "mas_mdpc['mdpc_score'] = pd_rdf.apply(lambda row: score_choices(row,mdpc_scores), axis=1)\n",
    "mas_mdpc['mdpc_text_score'] = pd_rdf.apply(lambda row: score_text(row,mdpc_texts), axis=1)\n",
    "mas_mdpc['total_score'] = mas_mdpc['mdpc_score'] + mas_mdpc['mdpc_text_score']\n",
    "\n",
    "plot_df(mas_mdpc)"
   ]
  },
  {
   "cell_type": "markdown",
   "metadata": {
    "application/vnd.databricks.v1+cell": {
     "cellMetadata": {
      "byteLimit": 2048000,
      "rowLimit": 10000
     },
     "inputWidgets": {},
     "nuid": "757d8475-b5c6-43e7-b05f-988bded13e88",
     "showTitle": false,
     "tableResultSettingsMap": {},
     "title": ""
    }
   },
   "source": [
    "## Cross-System Integration Within Country"
   ]
  },
  {
   "cell_type": "code",
   "execution_count": 0,
   "metadata": {
    "application/vnd.databricks.v1+cell": {
     "cellMetadata": {
      "byteLimit": 2048000,
      "rowLimit": 10000
     },
     "inputWidgets": {},
     "nuid": "58877ffb-e934-4782-a57c-dcdc45ed54e2",
     "showTitle": false,
     "tableResultSettingsMap": {},
     "title": ""
    }
   },
   "outputs": [],
   "source": [
    "csi_scores = {\n",
    "    'regional_national_integration_existing':{\n",
    "        'population_registry':1, \n",
    "        'other_mis':1, \n",
    "        'public_procurement_system':1, \n",
    "        'e_government':1, \n",
    "        'keep':1, \n",
    "        'national_data_bank':1, \n",
    "        'funding_management':1, \n",
    "        'index':1, \n",
    "        'specific_national_registry':1, \n",
    "        'financial_management_system':1,\n",
    "        },\n",
    "    'eu_integration_existing':{\n",
    "        'public_procurement_system':0, \n",
    "        'other_mis':0, \n",
    "        'arachne':0, \n",
    "        'keep':0, \n",
    "        'sfc':0,\n",
    "        'index':0\n",
    "        },\n",
    "    'eu_integration_wants':{\n",
    "        'ims':0, \n",
    "        'public_procurement_system':0,\n",
    "        'other_mis':0, \n",
    "        'arachne':0, \n",
    "        'keep':0, \n",
    "        'funding_management':0, \n",
    "        'sfc':0, \n",
    "        'index':0, \n",
    "        'specific_national_registry':0\n",
    "        },\n",
    "    'table_1_to_2_data_origin':{\n",
    "        'mis':0, \n",
    "        'e_cohesion':0, \n",
    "        'other':0,\n",
    "        },\n",
    "    'table_5_to_10_data_origin':{\n",
    "        'mis':0, \n",
    "        'e_cohesion':0, \n",
    "        'other':0,\n",
    "        },\n",
    "    'table_12_data_origin':{\n",
    "        'mis':0, \n",
    "        'e_cohesion':0, \n",
    "        'other':0,\n",
    "        },\n",
    "    'sfc_automation_level':{\n",
    "        'fully':0, \n",
    "        'partially':0, \n",
    "        'not_at_all':0, \n",
    "        'other':0,\n",
    "        },\n",
    "    'operation_data_origin':{\n",
    "        'me_mis':0,\n",
    "        'financial_mis':0, \n",
    "        'e_cohesion':0, \n",
    "        'other':0,\n",
    "        },\n",
    "    'arachne_information_origin':{\n",
    "        'me_mis':0, \n",
    "        'financial_mis':0, \n",
    "        'e_cohesion':0, \n",
    "        'other':0\n",
    "        }\n",
    "}\n",
    "\n",
    "csi_texts = {'operation_data_origin_other':0, 'other_arachne_information_origin':0}"
   ]
  },
  {
   "cell_type": "code",
   "execution_count": 0,
   "metadata": {
    "application/vnd.databricks.v1+cell": {
     "cellMetadata": {
      "byteLimit": 2048000,
      "rowLimit": 10000
     },
     "inputWidgets": {},
     "nuid": "64120279-408e-4413-98f1-8ebd27e01ac0",
     "showTitle": false,
     "tableResultSettingsMap": {},
     "title": ""
    }
   },
   "outputs": [],
   "source": [
    "pd_rdf = rdf.toPandas()\n",
    "mas_csi = pd_rdf.fillna('').loc[:,['ma_name','ms_name','caseid']]\n",
    "\n",
    "mas_csi['csi_score'] = pd_rdf.apply(lambda row: score_choices(row,csi_scores), axis=1)\n",
    "mas_csi['csi_text_score'] = pd_rdf.apply(lambda row: score_text(row,csi_texts), axis=1)\n",
    "mas_csi['total_score'] = mas_csi['csi_score'] + mas_csi['csi_text_score']\n",
    "\n",
    "plot_df(mas_csi)"
   ]
  },
  {
   "cell_type": "markdown",
   "metadata": {
    "application/vnd.databricks.v1+cell": {
     "cellMetadata": {
      "byteLimit": 2048000,
      "rowLimit": 10000
     },
     "inputWidgets": {},
     "nuid": "7e67621f-d81e-40f2-b470-ea3a3882537b",
     "showTitle": false,
     "tableResultSettingsMap": {},
     "title": ""
    }
   },
   "source": [
    "## Total Score"
   ]
  },
  {
   "cell_type": "code",
   "execution_count": 0,
   "metadata": {
    "application/vnd.databricks.v1+cell": {
     "cellMetadata": {
      "byteLimit": 2048000,
      "rowLimit": 10000
     },
     "inputWidgets": {},
     "nuid": "6a91c468-e218-4e2e-b739-fb32bc29a7ff",
     "showTitle": false,
     "tableResultSettingsMap": {},
     "title": ""
    }
   },
   "outputs": [],
   "source": [
    "mas_mdpc_short = mas_mdpc.rename(columns={'total_score': 'score_mdpc'})\n",
    "mas_csi_short = mas_csi.rename(columns={'total_score': 'score_csi'})\n",
    "mas_clean_short = mas_clean.rename(columns={'total_score': 'score_clean'})\n",
    "mas_tsma_short = mas_tsma.rename(columns={'total_score': 'score_tsma'})\n",
    "\n",
    "df_merged = mas_mdpc_short[['caseid', 'ma_name', 'ms_name', 'score_mdpc']]\\\n",
    "    .merge(mas_csi_short[['caseid', 'score_csi']], on='caseid', how='inner')\\\n",
    "    .merge(mas_clean_short[['caseid', 'score_clean']], on='caseid', how='inner')\\\n",
    "    .merge(mas_tsma_short[['caseid', 'score_tsma']], on='caseid', how='inner')\n",
    "\n",
    "# Weights Taken from Transformation Readiness Pre-Analysis Doc\n",
    "df_merged['total_score'] = (\n",
    "    0.3 * df_merged['score_mdpc'] +\n",
    "    0.2 * df_merged['score_csi'] +\n",
    "    0.4 * df_merged['score_clean'] +\n",
    "    0.1 * df_merged['score_tsma']\n",
    ")\n",
    "\n",
    "total_df = df_merged[['caseid', 'ma_name', 'ms_name', 'score_mdpc', 'score_csi', 'score_clean', 'score_tsma', 'total_score']]\n",
    "\n",
    "plot_df(total_df, 40)"
   ]
  },
  {
   "cell_type": "code",
   "execution_count": 0,
   "metadata": {
    "application/vnd.databricks.v1+cell": {
     "cellMetadata": {
      "byteLimit": 2048000,
      "rowLimit": 10000
     },
     "inputWidgets": {},
     "nuid": "2a590a32-ee87-4c3f-b9f1-fb15d7a1efa4",
     "showTitle": false,
     "tableResultSettingsMap": {},
     "title": ""
    }
   },
   "outputs": [],
   "source": [
    "attendee_path = r'/Volumes/prd_mega/sdgreg25/vdgreg25/Documents/Workshop/managing-authorities-emails-and-urls.xlsx'\n",
    "attendees = pd.read_excel(attendee_path, sheet_name='Workshop participants full list', engine='openpyxl')"
   ]
  },
  {
   "cell_type": "code",
   "execution_count": 0,
   "metadata": {
    "application/vnd.databricks.v1+cell": {
     "cellMetadata": {
      "byteLimit": 2048000,
      "rowLimit": 10000
     },
     "inputWidgets": {},
     "nuid": "64ddb7f3-a404-42fd-a994-6dc2eb7ee77a",
     "showTitle": false,
     "tableResultSettingsMap": {},
     "title": ""
    }
   },
   "outputs": [],
   "source": [
    "ws_case_ids = attendees['Caseid'].unique()\n",
    "# display(len(case_ids))\n",
    "ws_df = total_df[total_df['caseid'].isin(ws_case_ids)]\n",
    "ws_df = label_quartiles(ws_df)\n",
    "# display(ws_df)\n",
    "\n",
    "score_clean = 'Foresight and Engagement'\n",
    "score_tsma = 'Sophistication'\n",
    "score_csi = 'Cross-System Integration Within Country'\n",
    "score_mdpc = 'Data Processing Capability'\n",
    "ws_df = ws_df.rename(columns={'score_clean':score_clean,'score_tsma':score_tsma,'score_csi':score_csi,'score_mdpc':score_mdpc})\n",
    "plot_df(ws_df,num=20)\n",
    "# for i,row in ws_df[ws_df['ma_name']=='Ministry of Investments and European Projects'].iterrows():\n",
    "#     print(row['caseid'])"
   ]
  },
  {
   "cell_type": "code",
   "execution_count": 0,
   "metadata": {
    "application/vnd.databricks.v1+cell": {
     "cellMetadata": {
      "byteLimit": 2048000,
      "rowLimit": 10000
     },
     "inputWidgets": {},
     "nuid": "2bb3ecc3-1328-466c-9b4c-afe79ceedea9",
     "showTitle": false,
     "tableResultSettingsMap": {},
     "title": ""
    }
   },
   "outputs": [],
   "source": [
    "#  Compare All MAs Across Dimensions\n",
    "\n",
    "melted = ws_df.melt(id_vars=[\"ma_name\"], value_vars=[score_mdpc, score_csi, score_tsma, score_clean],\n",
    "                 var_name=\"Dimension\", value_name=\"Score\")\n",
    "\n",
    "fig = px.bar(\n",
    "    melted,\n",
    "    x=\"ma_name\",\n",
    "    y=\"Score\",\n",
    "    color=\"Dimension\",\n",
    "    barmode=\"group\",\n",
    "    title=\"Maturity Scores by Dimension per Managing Authority\"\n",
    ")\n",
    "fig.update_layout(xaxis_title=\"Managing Authority\", yaxis_title=\"Score\")\n",
    "fig.show()"
   ]
  },
  {
   "cell_type": "code",
   "execution_count": 0,
   "metadata": {
    "application/vnd.databricks.v1+cell": {
     "cellMetadata": {
      "byteLimit": 2048000,
      "rowLimit": 10000
     },
     "inputWidgets": {},
     "nuid": "2b914bb2-d51f-43a5-8b55-750a08a299cb",
     "showTitle": false,
     "tableResultSettingsMap": {},
     "title": ""
    }
   },
   "outputs": [],
   "source": [
    "fig = px.box(melted, x=\"Dimension\", y=\"Score\", points=\"all\", title=\"Distribution of Scores per Maturity Dimension\")\n",
    "fig.update_layout(yaxis_title=\"Score\")\n",
    "fig.show()\n"
   ]
  },
  {
   "cell_type": "code",
   "execution_count": 0,
   "metadata": {
    "application/vnd.databricks.v1+cell": {
     "cellMetadata": {
      "byteLimit": 2048000,
      "rowLimit": 10000
     },
     "inputWidgets": {},
     "nuid": "99c70e4c-5d3b-41aa-bbe0-3e287403b207",
     "showTitle": false,
     "tableResultSettingsMap": {},
     "title": ""
    }
   },
   "outputs": [],
   "source": [
    "categories = [score_mdpc, score_csi, score_tsma, score_clean]\n",
    "\n",
    "# Average scores per dimension by country\n",
    "avg_by_country = ws_df.groupby(\"ms_name\")[categories].mean().reset_index()\n",
    "\n",
    "melted_country = avg_by_country.melt(\n",
    "    id_vars=\"ms_name\",\n",
    "    value_vars=categories,\n",
    "    var_name=\"Dimension\",\n",
    "    value_name=\"Average Score\"\n",
    ")\n",
    "\n",
    "import plotly.express as px\n",
    "\n",
    "fig = px.bar(\n",
    "    melted_country,\n",
    "    x=\"ms_name\",\n",
    "    y=\"Average Score\",\n",
    "    color=\"Dimension\",\n",
    "    barmode=\"group\",\n",
    "    title=\"Average Maturity Scores by Dimension per Country\"\n",
    ")\n",
    "fig.update_layout(xaxis_title=\"Member State\", yaxis_title=\"Average Score\")\n",
    "fig.show()\n",
    "\n",
    "fig = px.line_polar(\n",
    "    melted_country,\n",
    "    r=\"Average Score\",\n",
    "    theta=\"Dimension\",\n",
    "    color=\"ms_name\",\n",
    "    line_close=True,\n",
    "    title=\"Technological Maturity Profiles per Country\"\n",
    ")\n",
    "fig.update_traces(fill=\"toself\")\n",
    "fig.show()\n"
   ]
  },
  {
   "cell_type": "code",
   "execution_count": 0,
   "metadata": {
    "application/vnd.databricks.v1+cell": {
     "cellMetadata": {
      "byteLimit": 2048000,
      "rowLimit": 10000
     },
     "inputWidgets": {},
     "nuid": "94edee77-b04b-4fc7-b7df-727469931946",
     "showTitle": false,
     "tableResultSettingsMap": {},
     "title": ""
    }
   },
   "outputs": [],
   "source": [
    "# Calculate Ability to Execute\n",
    "ws_df[\"ability_to_execute\"] = ws_df[[score_tsma, score_mdpc, score_csi]].mean(axis=1)\n",
    "\n",
    "# X = Vision (A), Y = Ability (B, C, D)\n",
    "x = score_clean  # Technological Foresight and Engagement\n",
    "y = 'ability_to_execute'\n",
    "\n",
    "fig = px.scatter(\n",
    "    ws_df,\n",
    "    x=x,\n",
    "    y=y,\n",
    "    # text=\"ma_name\",\n",
    "    color=\"ms_name\",  # Optional: color by country\n",
    "    title=\"Maturity of Managing Authorities\",\n",
    "    labels={\n",
    "        x: \"High Completeness of Vision (A)\",\n",
    "        y: \"High Ability to Execute (B, C, D)\"\n",
    "    },\n",
    "    hover_data=[\"ma_name\", \"ms_name\", x, y]\n",
    ")\n",
    "\n",
    "# Add quadrant lines at medians (or percentiles)\n",
    "x_median = ws_df[x].median()\n",
    "y_median = ws_df[y].median()\n",
    "\n",
    "fig.add_vline(x=x_median, line_dash=\"dash\", line_color=\"gray\")\n",
    "fig.add_hline(y=y_median, line_dash=\"dash\", line_color=\"gray\")\n",
    "\n",
    "# Optional: quadrant labels\n",
    "fig.add_annotation(x=x_median + 2, y=y_median + .2, text=\"Leaders\", showarrow=False)\n",
    "fig.add_annotation(x=x_median - 2, y=y_median + .2, text=\"Challengers\", showarrow=False)\n",
    "fig.add_annotation(x=x_median + 2, y=y_median - .2, text=\"Visionaries\", showarrow=False)\n",
    "fig.add_annotation(x=x_median - 2, y=y_median - .2, text=\"Niche Players\", showarrow=False)\n",
    "\n",
    "fig.update_traces(textposition=\"top center\")\n",
    "fig.update_layout(xaxis=dict(title=\"Completeness of Vision (A)\"),\n",
    "                  yaxis=dict(title=\"Ability to Execute (B, C, D)\"),\n",
    "                  height=450,\n",
    "                  width=600)\n",
    "\n",
    "fig.show()\n"
   ]
  },
  {
   "cell_type": "code",
   "execution_count": 0,
   "metadata": {
    "application/vnd.databricks.v1+cell": {
     "cellMetadata": {
      "byteLimit": 2048000,
      "rowLimit": 10000
     },
     "inputWidgets": {},
     "nuid": "288ab219-0c51-4d7e-a392-0786f3f5ed66",
     "showTitle": false,
     "tableResultSettingsMap": {},
     "title": ""
    }
   },
   "outputs": [],
   "source": []
  }
 ],
 "metadata": {
  "application/vnd.databricks.v1+notebook": {
   "computePreferences": null,
   "dashboards": [],
   "environmentMetadata": {
    "base_environment": "",
    "environment_version": "2"
   },
   "inputWidgetPreferences": null,
   "language": "python",
   "notebookMetadata": {
    "pythonIndentUnit": 4
   },
   "notebookName": "MA Technical Maturity",
   "widgets": {}
  },
  "language_info": {
   "name": "python"
  }
 },
 "nbformat": 4,
 "nbformat_minor": 0
}
