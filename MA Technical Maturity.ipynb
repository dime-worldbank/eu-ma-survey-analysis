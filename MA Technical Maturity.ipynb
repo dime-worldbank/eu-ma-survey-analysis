{
 "cells": [
  {
   "cell_type": "code",
   "execution_count": 0,
   "metadata": {
    "application/vnd.databricks.v1+cell": {
     "cellMetadata": {
      "byteLimit": 2048000,
      "rowLimit": 10000
     },
     "inputWidgets": {},
     "nuid": "b55e6fd4-08b5-4209-a626-6be7f2e5252d",
     "showTitle": false,
     "tableResultSettingsMap": {},
     "title": ""
    }
   },
   "outputs": [],
   "source": [
    "%pip install openpyxl\n",
    "\n",
    "import pandas as pd\n",
    "import numpy as np"
   ]
  },
  {
   "cell_type": "code",
   "execution_count": 0,
   "metadata": {
    "application/vnd.databricks.v1+cell": {
     "cellMetadata": {
      "byteLimit": 2048000,
      "rowLimit": 10000
     },
     "inputWidgets": {},
     "nuid": "8f5ff1ca-9b7f-47f3-bd42-6a8156a20520",
     "showTitle": false,
     "tableResultSettingsMap": {},
     "title": ""
    }
   },
   "outputs": [],
   "source": [
    "responses_path = r'/Volumes/prd_mega/sdgreg25/vdgreg25/Documents/MA Survey/MA Survey Results.csv'\n",
    "\n",
    "responses_df_raw = pd.read_csv(responses_path)\n",
    "\n",
    "survey_path = r'/Volumes/prd_mega/sdgreg25/vdgreg25/Documents/temp/MA_Survey_Final.xlsx'\n",
    "\n",
    "choice_df_raw = pd.read_excel(survey_path, sheet_name='choices', engine='openpyxl')\n",
    "\n",
    "question_df_raw = pd.read_excel(survey_path, sheet_name='survey', engine='openpyxl')"
   ]
  },
  {
   "cell_type": "code",
   "execution_count": 0,
   "metadata": {
    "application/vnd.databricks.v1+cell": {
     "cellMetadata": {
      "byteLimit": 2048000,
      "rowLimit": 10000
     },
     "inputWidgets": {},
     "nuid": "68634316-5ad3-44bf-b239-bd8a7274b60e",
     "showTitle": false,
     "tableResultSettingsMap": {},
     "title": ""
    }
   },
   "outputs": [],
   "source": [
    "qdf = question_df_raw[145:][question_df_raw['type'].str.contains('select') | question_df_raw['type'].str.contains('text')]\n",
    "\n",
    "cdf = choice_df_raw.copy()\n",
    "\n",
    "rdf = responses_df_raw.copy()\n",
    "\n",
    "display(rdf)"
   ]
  },
  {
   "cell_type": "code",
   "execution_count": 0,
   "metadata": {
    "application/vnd.databricks.v1+cell": {
     "cellMetadata": {
      "byteLimit": 2048000,
      "rowLimit": 10000
     },
     "inputWidgets": {},
     "nuid": "e4ea426f-9202-4497-9a33-4b6dec483c72",
     "showTitle": false,
     "tableResultSettingsMap": {},
     "title": ""
    }
   },
   "outputs": [],
   "source": [
    "qdf"
   ]
  },
  {
   "cell_type": "code",
   "execution_count": 0,
   "metadata": {
    "application/vnd.databricks.v1+cell": {
     "cellMetadata": {
      "byteLimit": 2048000,
      "rowLimit": 10000
     },
     "inputWidgets": {},
     "nuid": "872cea84-8f43-4b36-956b-0b6d466b691c",
     "showTitle": false,
     "tableResultSettingsMap": {},
     "title": ""
    }
   },
   "outputs": [],
   "source": [
    "# score dataframe\n",
    "sdf = cdf.copy()\n",
    "\n",
    "sections = sdf['list_name'].drop_duplicates().to_list()\n",
    "\n",
    "for s in sections:\n",
    "    idcs = sdf[sdf['list_name'] == s].index\n",
    "    j = 0\n",
    "    for i in idcs:\n",
    "        sdf.loc[i, 'score'] = j\n",
    "        j += 1\n",
    "\n",
    "display(sdf)\n",
    "\n",
    "\n"
   ]
  },
  {
   "cell_type": "code",
   "execution_count": 0,
   "metadata": {
    "application/vnd.databricks.v1+cell": {
     "cellMetadata": {
      "byteLimit": 2048000,
      "rowLimit": 10000
     },
     "inputWidgets": {},
     "nuid": "4a6852e6-2d64-4674-bef4-ca177a6d4797",
     "showTitle": false,
     "tableResultSettingsMap": {},
     "title": ""
    }
   },
   "outputs": [],
   "source": [
    "sections"
   ]
  },
  {
   "cell_type": "markdown",
   "metadata": {
    "application/vnd.databricks.v1+cell": {
     "cellMetadata": {},
     "inputWidgets": {},
     "nuid": "2adffbb3-7f73-4eae-9e40-3461ad1847cb",
     "showTitle": false,
     "tableResultSettingsMap": {},
     "title": ""
    }
   },
   "source": [
    "## Data System Score"
   ]
  },
  {
   "cell_type": "code",
   "execution_count": 0,
   "metadata": {
    "application/vnd.databricks.v1+cell": {
     "cellMetadata": {
      "byteLimit": 2048000,
      "rowLimit": 10000
     },
     "inputWidgets": {},
     "nuid": "547d4947-68c0-4583-a671-9dc2dc32f029",
     "showTitle": false,
     "tableResultSettingsMap": {},
     "title": ""
    }
   },
   "outputs": [],
   "source": [
    "\n",
    "\n",
    "mas = rdf.loc[:,['ma_name','ms_name','caseid']]\n",
    "\n",
    "# Average for the MIS and ecohesion systems\n",
    "answer_scores = {\n",
    " 'meeting_needs': {'fully':2,\n",
    "    'partially':1,\n",
    "    'minimally':0,\n",
    "    },\n",
    " \n",
    " 'updates':{'yes_maintenance':3,\n",
    "    'yes_maintenance_and_improvements':2,\n",
    "    'no_but_adds_regulation':1,\n",
    "    'not_at_all':0\n",
    "    },\n",
    " \n",
    " 'api_data_transmission':{\n",
    "        'yes':2,\n",
    "        'no':0,\n",
    "        'no_but_pursuing':1,\n",
    "        'does_not_know':0,\n",
    "    },\n",
    " \n",
    " 'barriers_to_api_implementation':{'lack_of_technical_capacity':-1,\n",
    "    'budget_constraints':-1,\n",
    "    'regulatory_restrictions':-1,\n",
    "    'legacy_issues':-1,\n",
    "    'security_concerns':-1,\n",
    "    'satisfied':-1,\n",
    "    'other':-1,\n",
    "    },\n",
    " }\n",
    "\n",
    "# boost score for having an answer, assuming this means more connections\n",
    "text_boosts = ['regional_national_integration_existing',\n",
    " 'eu_integration_existing',\n",
    " 'regional_national_integration_wants',\n",
    " 'eu_integration_wants']\n",
    "\n",
    "# assume this means more impediments\n",
    "text_impediments=['other_api_barriers']\n",
    "\n",
    "def score_systems(row):\n",
    "    caseid = row['caseid']\n",
    "    answer_row = rdf[rdf['caseid'] == caseid].squeeze()\n",
    "\n",
    "    all_questions = qdf['name'].tolist()\n",
    "\n",
    "    system_questions = [q for q in all_questions if 'mis_' in q.lower() or 'e_cohesion_' in q.lower()]\n",
    "\n",
    "    score = 0\n",
    "    total_questions = 0\n",
    "    for q in system_questions:\n",
    "        \n",
    "        base_questions = q.replace('mis_financial_','').replace('mis_me_','').replace('mis_', '').replace('e_cohesion_', '')\n",
    "        base_questions = base_questions.split(' ')\n",
    "\n",
    "        for base_question in base_questions:\n",
    "            if not pd.isna(answer_row[q]):\n",
    "                if base_question in answer_scores.keys():\n",
    "                    answers = answer_row[q].split(' ')\n",
    "                    for answer in answers:\n",
    "                        total_questions += 1\n",
    "                        to_add = answer_scores[base_question][answer]\n",
    "                        score += to_add\n",
    "                elif base_question in text_boosts:\n",
    "                    total_questions += 1\n",
    "                    score = score + 1\n",
    "                elif base_question in text_impediments:\n",
    "                    total_questions += 1\n",
    "                    score = score - 1\n",
    "                \n",
    "    return [score, total_questions]\n",
    "\n",
    "mas['system_score & total_questions'] = mas.apply(lambda row: score_systems(row), axis=1)\n",
    "\n",
    "mas['total_system_score'] = mas['system_score & total_questions'].apply(lambda x: x[0])\n",
    "mas['total_questions'] = mas['system_score & total_questions'].apply(lambda x: x[1])\n",
    "\n",
    "mas['system_score'] = mas['total_system_score'] / mas['total_questions']\n",
    "\n",
    "display(mas)"
   ]
  },
  {
   "cell_type": "code",
   "execution_count": 0,
   "metadata": {
    "application/vnd.databricks.v1+cell": {
     "cellMetadata": {
      "byteLimit": 2048000,
      "rowLimit": 10000
     },
     "inputWidgets": {},
     "nuid": "551b053f-ecf5-4446-b6e2-fe6eafbf59da",
     "showTitle": false,
     "tableResultSettingsMap": {},
     "title": ""
    }
   },
   "outputs": [],
   "source": [
    "import pandas as pd\n",
    "\n",
    "# Sort by system_score descending\n",
    "mas_sorted = mas.sort_values(by='system_score', ascending=False)\n",
    "\n",
    "# Define your top percentile (e.g., 10%)\n",
    "percentile = 0.10  # top 10%\n",
    "\n",
    "# Calculate how many rows that is\n",
    "top_n = int(len(mas_sorted) * percentile)\n",
    "\n",
    "# Get the top X percentile rows\n",
    "top_df = mas_sorted.head(top_n)\n",
    "\n",
    "top_df"
   ]
  },
  {
   "cell_type": "code",
   "execution_count": 0,
   "metadata": {
    "application/vnd.databricks.v1+cell": {
     "cellMetadata": {},
     "inputWidgets": {},
     "nuid": "8c4a82d0-b7d9-4090-9838-cfdee7ac2e98",
     "showTitle": false,
     "tableResultSettingsMap": {},
     "title": ""
    }
   },
   "outputs": [],
   "source": []
  }
 ],
 "metadata": {
  "application/vnd.databricks.v1+notebook": {
   "computePreferences": null,
   "dashboards": [],
   "environmentMetadata": {
    "base_environment": "",
    "environment_version": "2"
   },
   "inputWidgetPreferences": null,
   "language": "python",
   "notebookMetadata": {
    "pythonIndentUnit": 4
   },
   "notebookName": "MA Technical Maturity",
   "widgets": {}
  },
  "language_info": {
   "name": "python"
  }
 },
 "nbformat": 4,
 "nbformat_minor": 0
}
